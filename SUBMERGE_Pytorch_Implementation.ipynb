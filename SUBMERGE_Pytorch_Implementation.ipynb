{
  "nbformat": 4,
  "nbformat_minor": 0,
  "metadata": {
    "colab": {
      "name": "SUBMERGE.ipynb",
      "provenance": [],
      "collapsed_sections": [],
      "authorship_tag": "ABX9TyPIoyTm+EqfoDH4htvLZrMd",
      "include_colab_link": true
    },
    "kernelspec": {
      "name": "python3",
      "display_name": "Python 3"
    }
  },
  "cells": [
    {
      "cell_type": "markdown",
      "metadata": {
        "id": "view-in-github",
        "colab_type": "text"
      },
      "source": [
        "<a href=\"https://colab.research.google.com/github/Computer-CGuy/Submerge/blob/master/SUBMERGE_Pytorch_Implementation.ipynb\" target=\"_parent\"><img src=\"https://colab.research.google.com/assets/colab-badge.svg\" alt=\"Open In Colab\"/></a>"
      ]
    },
    {
      "cell_type": "markdown",
      "metadata": {
        "id": "NowUUlu5OZ6C",
        "colab_type": "text"
      },
      "source": [
        "# SUBMERGE NETWORK\n",
        "\n"
      ]
    },
    {
      "cell_type": "markdown",
      "metadata": {
        "id": "o7HIdGX5OrFO",
        "colab_type": "text"
      },
      "source": [
        "#### Including modules"
      ]
    },
    {
      "cell_type": "code",
      "metadata": {
        "id": "ay-n8Oy06z00",
        "colab_type": "code",
        "colab": {}
      },
      "source": [
        "import numpy as np\n",
        "import pandas as pd\n",
        "import torch\n",
        "import torch.nn as nn\n",
        "import torchvision.datasets as dsets\n",
        "import torchvision.transforms as transforms\n",
        "from torch.autograd import Variable\n",
        "import cv2\n",
        "from google.colab.patches import cv2_imshow"
      ],
      "execution_count": 0,
      "outputs": []
    },
    {
      "cell_type": "code",
      "metadata": {
        "id": "3CrZqJyKbtrG",
        "colab_type": "code",
        "colab": {}
      },
      "source": [
        "import matplotlib.pyplot as plt\n",
        "%matplotlib inline"
      ],
      "execution_count": 0,
      "outputs": []
    },
    {
      "cell_type": "markdown",
      "metadata": {
        "id": "dKMhXyFmO0PT",
        "colab_type": "text"
      },
      "source": [
        "### Seperate Functions\n",
        "\n",
        "\n",
        "\n",
        "*   ``` getBinaryImage(img) ``` converts image to binary values(0 and 1)\n",
        "\n",
        "\n",
        "\n",
        "*    ``` merge(img1,img2) ``` AND 2 images based on weigths\n",
        "\n",
        "*    ``` fading(img3,cord) ``` takes an image and add cord, and make an epicenter on the image at the cord\n",
        "\n",
        "\n",
        "\n",
        "\n"
      ]
    },
    {
      "cell_type": "code",
      "metadata": {
        "id": "C8rFWugRybWf",
        "colab_type": "code",
        "colab": {}
      },
      "source": [
        "def getBinaryImage(img):\n",
        "  ret = np.where(img<0.5,0,1)\n",
        "  return ret"
      ],
      "execution_count": 0,
      "outputs": []
    },
    {
      "cell_type": "code",
      "metadata": {
        "id": "KBhEHOR6uFa1",
        "colab_type": "code",
        "colab": {}
      },
      "source": [
        "def getBinaryImagePt(img):\n",
        "  a1 = nn.Threshold(0.5,1)\n",
        "  # img*=-1\n",
        "  img = a1(img)\n",
        "  # print(img)\n",
        "  img = torch.mul(img,-1)\n",
        "  # print(img)\n",
        "  a2 = nn.Threshold(-0.99,0)\n",
        "  img = a2(img)\n",
        "  \n",
        "  # img*=-1\n",
        "  img = torch.mul(img,-1)\n",
        "\n",
        "  # img = nn.Threshold(0.5,1)\n",
        "  # ones = torch.ones(img.shape)\n",
        "  # zeros = torch.zeros(img.shape)\n",
        "  # ret = torch.where(img<0.5,zeros,ones)\n",
        "  return img"
      ],
      "execution_count": 0,
      "outputs": []
    },
    {
      "cell_type": "code",
      "metadata": {
        "id": "XdzQnKWexmwE",
        "colab_type": "code",
        "colab": {}
      },
      "source": [
        "def merge(img1,img2):\n",
        "  ret = np.multiply(img1,img2)\n",
        "  return ret"
      ],
      "execution_count": 0,
      "outputs": []
    },
    {
      "cell_type": "code",
      "metadata": {
        "id": "AlcUZdUqxWU9",
        "colab_type": "code",
        "colab": {}
      },
      "source": [
        "def mergePt(img1,img2):\n",
        "  rel = torch.mul(img1,img2)\n",
        "  # ret = img1*img2\n",
        "  return ret"
      ],
      "execution_count": 0,
      "outputs": []
    },
    {
      "cell_type": "code",
      "metadata": {
        "id": "l8_Dh3JA70-7",
        "colab_type": "code",
        "colab": {}
      },
      "source": [
        "def fading(img3,cord):\n",
        "  \n",
        "  for color in range(1,255,1):\n",
        "    cv2.circle(img3,cord,2+int(400/color),(color),thickness=-1)\n",
        "  return img3"
      ],
      "execution_count": 0,
      "outputs": []
    },
    {
      "cell_type": "code",
      "metadata": {
        "id": "vNedZJJCLzMj",
        "colab_type": "code",
        "colab": {}
      },
      "source": [
        "def drawCircle(color,cord=(12,12)):\n",
        "  img = np.zeros((24,24))  \n",
        "  r = 5\n",
        "  for x in range(24):\n",
        "    for y in range(24):\n",
        "      dist = ((((x-cord[0])**2)+((y-cord[1])**2))**(1/2))\n",
        "      if(dist<r):\n",
        "        img[x][y] = color\n",
        "  return img\n",
        "        # print(r-dist)\n",
        "  # cv2_imshow(img)"
      ],
      "execution_count": 0,
      "outputs": []
    },
    {
      "cell_type": "code",
      "metadata": {
        "id": "u8Qf_aauMp1-",
        "colab_type": "code",
        "colab": {}
      },
      "source": [
        "def fadingPt(cords):\n",
        "  cords = cords.cpu().detach().numpy()\n",
        "  img = np.zeros((10,24,24))\n",
        "  for x in range(10):\n",
        "    # print(cords[x][0])\n",
        "    for color in range(1,255,1):\n",
        "      c = torch.Variable(color)\n",
        "      \n",
        "      # cv2.circle(img[x],(int(cords[x][0]),int(cords[x][1])),2+int(400/color),(color),thickness=-1)\n",
        "  return img"
      ],
      "execution_count": 0,
      "outputs": []
    },
    {
      "cell_type": "code",
      "metadata": {
        "id": "pX8OYfu8xboi",
        "colab_type": "code",
        "colab": {}
      },
      "source": [
        "def fadingPt(cords):\n",
        "  cords = cords.cpu().detach().numpy()\n",
        "  # print(cords)\n",
        "  img = np.zeros((10,24,24))\n",
        "  for x in range(10):\n",
        "    # print(cords[x][0])\n",
        "    for color in range(1,255,1):\n",
        "      cv2.circle(img[x],(int(cords[x][0]),int(cords[x][1])),2+int(400/color),(color),thickness=-1)\n",
        "  img = torch.Tensor(img)\n",
        "  return img"
      ],
      "execution_count": 0,
      "outputs": []
    },
    {
      "cell_type": "code",
      "metadata": {
        "id": "d8CYH3jkMMOC",
        "colab_type": "code",
        "colab": {}
      },
      "source": [
        ""
      ],
      "execution_count": 0,
      "outputs": []
    },
    {
      "cell_type": "code",
      "metadata": {
        "id": "WtKyg7pz57sm",
        "colab_type": "code",
        "colab": {
          "base_uri": "https://localhost:8080/",
          "height": 68
        },
        "outputId": "7ea8cdd4-aeca-4d7e-e987-dcf8d9ac95a4"
      },
      "source": [
        ""
      ],
      "execution_count": 18,
      "outputs": [
        {
          "output_type": "stream",
          "text": [
            "<torch.autograd.function.FadingBackward object at 0x7f7d0b3149e8>\n",
            "tensor([0., 0., 0., 0., 0., 0., 0., 0., 0., 0.], requires_grad=True)\n",
            "tensor([0., 0., 0., 0., 0., 0., 0., 0., 0., 0.], grad_fn=<FadingBackward>)\n"
          ],
          "name": "stdout"
        }
      ]
    },
    {
      "cell_type": "markdown",
      "metadata": {
        "id": "vGu_qPbgP7EX",
        "colab_type": "text"
      },
      "source": [
        "### Truth table of merge"
      ]
    },
    {
      "cell_type": "code",
      "metadata": {
        "id": "onwNAXC5x0PW",
        "colab_type": "code",
        "colab": {}
      },
      "source": [
        " img1 img2\n",
        "1    1    1\n",
        "0    0    0\n",
        "1    0    0\n",
        "0    0    0"
      ],
      "execution_count": 0,
      "outputs": []
    },
    {
      "cell_type": "markdown",
      "metadata": {
        "id": "2kIx7pRbQA15",
        "colab_type": "text"
      },
      "source": [
        "### ``` fading()``` example"
      ]
    },
    {
      "cell_type": "code",
      "metadata": {
        "id": "fkq0RGs9952C",
        "colab_type": "code",
        "colab": {}
      },
      "source": [
        "img2 = np.zeros((24,24))\n",
        "cv2_imshow(fading(img2,(10,10)))"
      ],
      "execution_count": 0,
      "outputs": []
    },
    {
      "cell_type": "markdown",
      "metadata": {
        "id": "uPp8P6E6QgGK",
        "colab_type": "text"
      },
      "source": [
        "### Submerge 2 images"
      ]
    },
    {
      "cell_type": "code",
      "metadata": {
        "id": "ZbgUV_qtQV8u",
        "colab_type": "code",
        "colab": {}
      },
      "source": [
        "img = torch.rand((1,1,24,24))"
      ],
      "execution_count": 0,
      "outputs": []
    },
    {
      "cell_type": "code",
      "metadata": {
        "id": "1FnhnEyCykk5",
        "colab_type": "code",
        "colab": {}
      },
      "source": [
        "cv2_imshow(getBinaryImage(img[0][0].detach().numpy())*255)"
      ],
      "execution_count": 0,
      "outputs": []
    },
    {
      "cell_type": "code",
      "metadata": {
        "id": "ZYzJjFB1zbvG",
        "colab_type": "code",
        "outputId": "30083944-6ce6-4c0d-d2a5-f3c6a8d0f948",
        "colab": {
          "base_uri": "https://localhost:8080/",
          "height": 41
        }
      },
      "source": [
        "cv2_imshow(merge(getBinaryImage(img[0][0].detach().numpy()),img2))"
      ],
      "execution_count": 0,
      "outputs": [
        {
          "output_type": "display_data",
          "data": {
            "image/png": "[encoded data removed]",
            "text/plain": [
              "<PIL.Image.Image image mode=L size=24x24 at 0x7F7BBCBFEC50>"
            ]
          },
          "metadata": {
            "tags": []
          }
        }
      ]
    },
    {
      "cell_type": "markdown",
      "metadata": {
        "id": "OIOr7J-Kbr1-",
        "colab_type": "text"
      },
      "source": [
        "### Application-Type Implementation\n",
        "\n",
        "\n",
        "*   Takes in weights (2D Layer), Location(3D (X,Y) at weights indices) layers.\n",
        "*   Applies the submerge algorithms\n",
        "*   Sums up all the outputs.\n",
        "*   Later difference will also be implemented.\n",
        "\n",
        "#### Sources\n",
        "\n",
        "\n",
        "*   https://stackoverflow.com/questions/16229823/how-to-multiply-numpy-2d-array-with-numpy-1d-array\n",
        "*   https://pytorch.org/docs/stable/torch.html#torch.where\n"
      ]
    },
    {
      "cell_type": "code",
      "metadata": {
        "id": "1Qtjou87kFco",
        "colab_type": "code",
        "colab": {}
      },
      "source": [
        "weights = torch.Tensor([[1,2,4]])\n",
        "loc = torch.Tensor([[[0,1],[12,12],[90,90]]])"
      ],
      "execution_count": 0,
      "outputs": []
    },
    {
      "cell_type": "code",
      "metadata": {
        "id": "fWetbwHzJkDJ",
        "colab_type": "code",
        "colab": {}
      },
      "source": [
        ""
      ],
      "execution_count": 0,
      "outputs": []
    },
    {
      "cell_type": "code",
      "metadata": {
        "id": "IRGVgBuvo90K",
        "colab_type": "code",
        "outputId": "7e2a2ba5-9048-41e5-f897-588e5bdfe6a6",
        "colab": {
          "base_uri": "https://localhost:8080/",
          "height": 34
        }
      },
      "source": [
        "weights.shape"
      ],
      "execution_count": 0,
      "outputs": [
        {
          "output_type": "execute_result",
          "data": {
            "text/plain": [
              "torch.Size([1, 3])"
            ]
          },
          "metadata": {
            "tags": []
          },
          "execution_count": 9
        }
      ]
    },
    {
      "cell_type": "code",
      "metadata": {
        "id": "myeeAXWepFlV",
        "colab_type": "code",
        "outputId": "e36ba698-99b7-4b63-dd1e-7a6667c83af7",
        "colab": {
          "base_uri": "https://localhost:8080/",
          "height": 34
        }
      },
      "source": [
        "loc.shape"
      ],
      "execution_count": 0,
      "outputs": [
        {
          "output_type": "execute_result",
          "data": {
            "text/plain": [
              "torch.Size([1, 3, 2])"
            ]
          },
          "metadata": {
            "tags": []
          },
          "execution_count": 10
        }
      ]
    },
    {
      "cell_type": "code",
      "metadata": {
        "id": "Iv-uzsgQtUt0",
        "colab_type": "code",
        "colab": {}
      },
      "source": [
        "memory = getBinaryImagePt(torch.rand((1,10,24,24)))"
      ],
      "execution_count": 0,
      "outputs": []
    },
    {
      "cell_type": "code",
      "metadata": {
        "id": "EeUPVbaBtdtF",
        "colab_type": "code",
        "outputId": "0dcb1ddb-cc76-47ba-97de-2e4d5e40f662",
        "colab": {
          "base_uri": "https://localhost:8080/",
          "height": 41
        }
      },
      "source": [
        "cv2_imshow(memory[0][0].detach().numpy()*255)"
      ],
      "execution_count": 0,
      "outputs": [
        {
          "output_type": "display_data",
          "data": {
            "image/png": "[encoded data removed]",
            "text/plain": [
              "<PIL.Image.Image image mode=L size=24x24 at 0x7F404D13C278>"
            ]
          },
          "metadata": {
            "tags": []
          }
        }
      ]
    },
    {
      "cell_type": "code",
      "metadata": {
        "id": "lPqFcSMjxKQk",
        "colab_type": "code",
        "colab": {}
      },
      "source": [
        "cords = (torch.rand((10,2))*24).round().int()"
      ],
      "execution_count": 0,
      "outputs": []
    },
    {
      "cell_type": "code",
      "metadata": {
        "id": "a29vpmD27DLb",
        "colab_type": "code",
        "colab": {}
      },
      "source": [
        "subms = torch.Tensor(fadingPt(cords))\n",
        "add_subms = torch.mul(subms,memory)"
      ],
      "execution_count": 0,
      "outputs": []
    },
    {
      "cell_type": "code",
      "metadata": {
        "id": "Hb6jAEfx_0IB",
        "colab_type": "code",
        "outputId": "eb55873b-7cd8-49f8-db94-6103ea0e99f0",
        "colab": {
          "base_uri": "https://localhost:8080/",
          "height": 34
        }
      },
      "source": [
        "add_subms.shape"
      ],
      "execution_count": 0,
      "outputs": [
        {
          "output_type": "execute_result",
          "data": {
            "text/plain": [
              "torch.Size([1, 10, 24, 24])"
            ]
          },
          "metadata": {
            "tags": []
          },
          "execution_count": 76
        }
      ]
    },
    {
      "cell_type": "code",
      "metadata": {
        "id": "dxjuGQ7KACij",
        "colab_type": "code",
        "colab": {}
      },
      "source": [
        "added = (add_subms.mean(dim=1))"
      ],
      "execution_count": 0,
      "outputs": []
    },
    {
      "cell_type": "code",
      "metadata": {
        "id": "HAPz3c31APR4",
        "colab_type": "code",
        "outputId": "1846ff00-5909-490e-932f-abc03d087618",
        "colab": {
          "base_uri": "https://localhost:8080/",
          "height": 34
        }
      },
      "source": [
        "added.shape"
      ],
      "execution_count": 0,
      "outputs": [
        {
          "output_type": "execute_result",
          "data": {
            "text/plain": [
              "torch.Size([1, 24, 24])"
            ]
          },
          "metadata": {
            "tags": []
          },
          "execution_count": 99
        }
      ]
    },
    {
      "cell_type": "code",
      "metadata": {
        "id": "maolsIHpAJWR",
        "colab_type": "code",
        "outputId": "5b33fa7c-7c0d-4382-a4d4-e7d9e2d95b46",
        "colab": {
          "base_uri": "https://localhost:8080/",
          "height": 41
        }
      },
      "source": [
        "cv2_imshow(added[0].cpu().detach().numpy())"
      ],
      "execution_count": 0,
      "outputs": [
        {
          "output_type": "display_data",
          "data": {
            "image/png": "[encoded data removed]",
            "text/plain": [
              "<PIL.Image.Image image mode=L size=24x24 at 0x7F2C6E54E208>"
            ]
          },
          "metadata": {
            "tags": []
          }
        }
      ]
    },
    {
      "cell_type": "code",
      "metadata": {
        "id": "xe_B2ALx-clg",
        "colab_type": "code",
        "outputId": "ab81d0fa-a735-46e0-a218-a0be45a10ef6",
        "colab": {
          "base_uri": "https://localhost:8080/",
          "height": 257
        }
      },
      "source": [
        "for h in range(10):\n",
        "  cv2_imshow(add_subms[0][h].cpu().detach().numpy())"
      ],
      "execution_count": 0,
      "outputs": [
        {
          "output_type": "display_data",
          "data": {
            "image/png": "[encoded data removed]",
            "text/plain": [
              "<PIL.Image.Image image mode=L size=24x24 at 0x7F2C6E59BBE0>"
            ]
          },
          "metadata": {
            "tags": []
          }
        },
        {
          "output_type": "display_data",
          "data": {
            "image/png": "[encoded data removed]",
            "text/plain": [
              "<PIL.Image.Image image mode=L size=24x24 at 0x7F2C6E59BC88>"
            ]
          },
          "metadata": {
            "tags": []
          }
        },
        {
          "output_type": "display_data",
          "data": {
            "image/png": "[encoded data removed]",
            "text/plain": [
              "<PIL.Image.Image image mode=L size=24x24 at 0x7F2C6E59BEF0>"
            ]
          },
          "metadata": {
            "tags": []
          }
        },
        {
          "output_type": "display_data",
          "data": {
            "image/png": "[encoded data removed]",
            "text/plain": [
              "<PIL.Image.Image image mode=L size=24x24 at 0x7F2C6E59B908>"
            ]
          },
          "metadata": {
            "tags": []
          }
        },
        {
          "output_type": "display_data",
          "data": {
            "image/png": "[encoded data removed]",
            "text/plain": [
              "<PIL.Image.Image image mode=L size=24x24 at 0x7F2C6E59B080>"
            ]
          },
          "metadata": {
            "tags": []
          }
        },
        {
          "output_type": "display_data",
          "data": {
            "image/png": "[encoded data removed]",
            "text/plain": [
              "<PIL.Image.Image image mode=L size=24x24 at 0x7F2C6E59BBE0>"
            ]
          },
          "metadata": {
            "tags": []
          }
        },
        {
          "output_type": "display_data",
          "data": {
            "image/png": "[encoded data removed]",
            "text/plain": [
              "<PIL.Image.Image image mode=L size=24x24 at 0x7F2C6E59BC88>"
            ]
          },
          "metadata": {
            "tags": []
          }
        },
        {
          "output_type": "display_data",
          "data": {
            "image/png": "[encoded data removed]",
            "text/plain": [
              "<PIL.Image.Image image mode=L size=24x24 at 0x7F2C6E59BEF0>"
            ]
          },
          "metadata": {
            "tags": []
          }
        },
        {
          "output_type": "display_data",
          "data": {
            "image/png": "[encoded data removed]",
            "text/plain": [
              "<PIL.Image.Image image mode=L size=24x24 at 0x7F2C6E59B908>"
            ]
          },
          "metadata": {
            "tags": []
          }
        },
        {
          "output_type": "display_data",
          "data": {
            "image/png": "[encoded data removed]",
            "text/plain": [
              "<PIL.Image.Image image mode=L size=24x24 at 0x7F2C6E59B080>"
            ]
          },
          "metadata": {
            "tags": []
          }
        }
      ]
    },
    {
      "cell_type": "code",
      "metadata": {
        "id": "7J270FLttogD",
        "colab_type": "code",
        "outputId": "4f606e4c-cb13-4541-be0b-367200c46196",
        "colab": {
          "base_uri": "https://localhost:8080/",
          "height": 34
        }
      },
      "source": [
        "weights = torch.rand(10)\n",
        "mul = add_subms* weights[:,None,None]\n",
        "mul.shape"
      ],
      "execution_count": 0,
      "outputs": [
        {
          "output_type": "execute_result",
          "data": {
            "text/plain": [
              "torch.Size([1, 10, 24, 24])"
            ]
          },
          "metadata": {
            "tags": []
          },
          "execution_count": 102
        }
      ]
    },
    {
      "cell_type": "code",
      "metadata": {
        "id": "w3vMmyVHwV34",
        "colab_type": "code",
        "outputId": "451a110a-229a-46d8-ab2c-0e93d15af4b6",
        "colab": {
          "base_uri": "https://localhost:8080/",
          "height": 41
        }
      },
      "source": [
        "image = torch.sum(mul,1)\n",
        "image.shape\n",
        "cv2_imshow(image.detach().numpy()[0])"
      ],
      "execution_count": 0,
      "outputs": [
        {
          "output_type": "display_data",
          "data": {
            "image/png": "[encoded data removed]",
            "text/plain": [
              "<PIL.Image.Image image mode=L size=24x24 at 0x7F2C6E54E860>"
            ]
          },
          "metadata": {
            "tags": []
          }
        }
      ]
    },
    {
      "cell_type": "markdown",
      "metadata": {
        "id": "MKfoacD0J6kO",
        "colab_type": "text"
      },
      "source": [
        "### Functions Equality"
      ]
    },
    {
      "cell_type": "code",
      "metadata": {
        "id": "WMVzCjF0J5sX",
        "colab_type": "code",
        "colab": {}
      },
      "source": [
        "def getImageAdd(cords_add,memory_add,weights_add):\n",
        "  memory = getBinaryImagePt(memory_add)\n",
        "  # cords = (torch.rand((10,2))*24).round().int()\n",
        "  subms_add = torch.Tensor(fadingPt(cords_add))\n",
        "  add_subms = torch.mul(subms_add,memory_add)\n",
        "  # weights = torch.rand(10)\n",
        "  # add_subms.mul()\n",
        "  mul = add_subms * weights_add[:,None,None]\n",
        "  # u = weights[:,None,None].mul(add_subms)\n",
        "  image = torch.sum(mul,dim=1)\n",
        "  # mul.sum(dim=1)\n",
        "  return image"
      ],
      "execution_count": 0,
      "outputs": []
    },
    {
      "cell_type": "code",
      "metadata": {
        "id": "qwCuZOxkcmc-",
        "colab_type": "code",
        "colab": {}
      },
      "source": [
        "def getImageSub(cords_sub,memory_sub,weights_sub):\n",
        "  memory = getBinaryImagePt(memory_sub)\n",
        "  # cords = (torch.rand((10,2))*24).round().int()\n",
        "  subms_sub = torch.Tensor(fadingPt(cords_sub))\n",
        "  add_subms = torch.mul(subms_sub,memory_sub)\n",
        "  # weights = torch.rand(10)\n",
        "  # add_subms.mul()\n",
        "  mul = add_subms * weights_sub[:,None,None]\n",
        "  # u = weights[:,None,None].mul(add_subms)\n",
        "  image = torch.sum(mul,dim=1)\n",
        "  # mul.sum(dim=1)\n",
        "  return image"
      ],
      "execution_count": 0,
      "outputs": []
    },
    {
      "cell_type": "code",
      "metadata": {
        "id": "KHC0oT8DLucT",
        "colab_type": "code",
        "colab": {}
      },
      "source": [
        "weights_add = torch.rand(10,requires_grad=True)\n",
        "memory_add = getBinaryImagePt(torch.rand((1,10,24,24),requires_grad=True))\n",
        "cords_add = (torch.rand((10,2),requires_grad=True)*24).round().int()"
      ],
      "execution_count": 0,
      "outputs": []
    },
    {
      "cell_type": "code",
      "metadata": {
        "id": "6GdXUlkgPdrA",
        "colab_type": "code",
        "outputId": "9ce74ca2-fff0-45ed-8499-12cc15a976a7",
        "colab": {
          "base_uri": "https://localhost:8080/",
          "height": 34
        }
      },
      "source": [
        "torch.manual_seed(200)"
      ],
      "execution_count": 0,
      "outputs": [
        {
          "output_type": "execute_result",
          "data": {
            "text/plain": [
              "<torch._C.Generator at 0x7f2c787d2490>"
            ]
          },
          "metadata": {
            "tags": []
          },
          "execution_count": 276
        }
      ]
    },
    {
      "cell_type": "code",
      "metadata": {
        "id": "mbG3iz6Ba7JL",
        "colab_type": "code",
        "colab": {}
      },
      "source": [
        ""
      ],
      "execution_count": 0,
      "outputs": []
    },
    {
      "cell_type": "code",
      "metadata": {
        "id": "NaNgxJZJNZaV",
        "colab_type": "code",
        "outputId": "58146cf6-1bcf-4826-d81b-e5b5050be777",
        "colab": {
          "base_uri": "https://localhost:8080/",
          "height": 41
        }
      },
      "source": [
        "add = (getImageAdd(cords_add,memory_add,weights_add)[0].cpu().detach().numpy())\n",
        "\n",
        "cv2_imshow(add)"
      ],
      "execution_count": 0,
      "outputs": [
        {
          "output_type": "display_data",
          "data": {
            "image/png": "[encoded data removed]",
            "text/plain": [
              "<PIL.Image.Image image mode=L size=24x24 at 0x7F2C6E54EF98>"
            ]
          },
          "metadata": {
            "tags": []
          }
        }
      ]
    },
    {
      "cell_type": "code",
      "metadata": {
        "id": "MprXO5U5N8a5",
        "colab_type": "code",
        "colab": {}
      },
      "source": [
        "weights_sub = torch.rand(10)\n",
        "memory_sub = getBinaryImagePt(torch.rand((1,10,24,24)))\n",
        "cords_sub = (torch.rand((10,2))*24).round().int()"
      ],
      "execution_count": 0,
      "outputs": []
    },
    {
      "cell_type": "code",
      "metadata": {
        "id": "6aJPcbImeqvN",
        "colab_type": "code",
        "colab": {}
      },
      "source": [
        ""
      ],
      "execution_count": 0,
      "outputs": []
    },
    {
      "cell_type": "code",
      "metadata": {
        "id": "h7i_g21AOCcQ",
        "colab_type": "code",
        "outputId": "17319c40-2ec7-444d-9651-c8dbd2d468f4",
        "colab": {
          "base_uri": "https://localhost:8080/",
          "height": 41
        }
      },
      "source": [
        "sub = (getImageSub(cords_sub,memory_sub,weights_sub)[0].cpu().detach().numpy())\n",
        "cv2_imshow(sub)"
      ],
      "execution_count": 0,
      "outputs": [
        {
          "output_type": "display_data",
          "data": {
            "image/png": "[encoded data removed]",
            "text/plain": [
              "<PIL.Image.Image image mode=L size=24x24 at 0x7F2C6E536080>"
            ]
          },
          "metadata": {
            "tags": []
          }
        }
      ]
    },
    {
      "cell_type": "code",
      "metadata": {
        "id": "_laWd92lOPmL",
        "colab_type": "code",
        "outputId": "f10535aa-58d3-48e1-fe98-d450a8cf097d",
        "colab": {
          "base_uri": "https://localhost:8080/",
          "height": 41
        }
      },
      "source": [
        "cv2_imshow(add-sub)    "
      ],
      "execution_count": 0,
      "outputs": [
        {
          "output_type": "display_data",
          "data": {
            "image/png": "[encoded data removed]",
            "text/plain": [
              "<PIL.Image.Image image mode=L size=24x24 at 0x7F2C6E54E3C8>"
            ]
          },
          "metadata": {
            "tags": []
          }
        }
      ]
    },
    {
      "cell_type": "markdown",
      "metadata": {
        "id": "WrNpLCuHaBRp",
        "colab_type": "text"
      },
      "source": [
        "### Pytorch Implementation"
      ]
    },
    {
      "cell_type": "code",
      "metadata": {
        "id": "4x8F3CXxZ_YP",
        "colab_type": "code",
        "colab": {}
      },
      "source": [
        "class Fading(torch.autograd.Function):\n",
        "    @staticmethod\n",
        "    def forward(ctx,input,mines,memory_add,memory_sub):\n",
        "        indices = mines*3\n",
        "        add = input[:indices]\n",
        "        \n",
        "        cords_add = add[:(mines*2)]\n",
        "        cords_add = cords_add.view((10,2)).int()\n",
        "        # print(cords_add)\n",
        "        weights_add = add[(mines*2):]\n",
        "        add1 = getImageAdd(cords_add,memory_add,weights_add)\n",
        "\n",
        "        sub = input[indices:]\n",
        "        cords_sub = sub[:(mines*2)].int()\n",
        "        cords_sub = cords_sub.view((10,2)).int()\n",
        "\n",
        "        weights_sub = sub[(mines*2):]\n",
        "        sub1 = getImageSub(cords_sub,memory_sub,weights_sub)\n",
        "        output = add1-sub1\n",
        "        \"\"\"\n",
        "        In the forward pass we receive a Tensor containing the input and return\n",
        "        a Tensor containing the output. ctx is a context object that can be used\n",
        "        to stash information for backward computation. You can cache arbitrary\n",
        "        objects for use in the backward pass using the ctx.save_for_backward method.\n",
        "        \"\"\"\n",
        "        # print(ctx)\n",
        "        # print(input)\n",
        "        ctx.save_for_backward(output)\n",
        "        return output\n",
        "\n",
        "    @staticmethod\n",
        "    def backward(ctx, grad_output):\n",
        "        \"\"\"\n",
        "        In the backward pass we receive a Tensor containing the gradient of the loss\n",
        "        with respect to the output, and we need to compute the gradient of the loss\n",
        "        with respect to the input.\n",
        "        \"\"\"\n",
        "        # print(ctx.saved_tensors)\n",
        "        input, = ctx.saved_tensors\n",
        "        grad_input = grad_output.clone()\n",
        "        # grad_input[input < 0] = 0\n",
        "        return grad_input"
      ],
      "execution_count": 0,
      "outputs": []
    },
    {
      "cell_type": "code",
      "metadata": {
        "id": "Qnmpk4aFJAR_",
        "colab_type": "code",
        "colab": {}
      },
      "source": [
        "weights_add = torch.rand(10,requires_grad=True)\n",
        "memory_add = getBinaryImagePt(torch.rand((1,10,24,24),requires_grad=True))\n",
        "cords_add = (torch.rand((20),requires_grad=True)*24).round()"
      ],
      "execution_count": 0,
      "outputs": []
    },
    {
      "cell_type": "code",
      "metadata": {
        "id": "DULkhXE_JDXN",
        "colab_type": "code",
        "colab": {}
      },
      "source": [
        "weights_sub = torch.rand(10)\n",
        "memory_sub = getBinaryImagePt(torch.rand((1,10,24,24)))\n",
        "cords_sub = (torch.rand((20),requires_grad=True)*24).round()\n"
      ],
      "execution_count": 0,
      "outputs": []
    },
    {
      "cell_type": "code",
      "metadata": {
        "id": "couIrjxLJQbE",
        "colab_type": "code",
        "colab": {}
      },
      "source": [
        "ins = torch.cat((cords_add,weights_add,cords_sub,weights_sub))\n",
        "mines = 10"
      ],
      "execution_count": 0,
      "outputs": []
    },
    {
      "cell_type": "code",
      "metadata": {
        "id": "CxtgzoLXJI6R",
        "colab_type": "code",
        "colab": {}
      },
      "source": [
        "output = Fading.apply(ins,10,memory_add,memory_sub)"
      ],
      "execution_count": 0,
      "outputs": []
    },
    {
      "cell_type": "code",
      "metadata": {
        "id": "xHsJih01JLWO",
        "colab_type": "code",
        "colab": {
          "base_uri": "https://localhost:8080/",
          "height": 41
        },
        "outputId": "0769ac23-cf6f-42fe-ec71-98e06cd0c03d"
      },
      "source": [
        "cv2_imshow(output.detach().cpu().numpy()[0])\n"
      ],
      "execution_count": 17,
      "outputs": [
        {
          "output_type": "display_data",
          "data": {
            "image/png": "[encoded data removed]",
            "text/plain": [
              "<PIL.Image.Image image mode=L size=24x24 at 0x7F75AF89EFD0>"
            ]
          },
          "metadata": {
            "tags": []
          }
        }
      ]
    },
    {
      "cell_type": "markdown",
      "metadata": {
        "id": "ASLphRakQqYO",
        "colab_type": "text"
      },
      "source": [
        "### SUBMERGE on Convolution blocks"
      ]
    },
    {
      "cell_type": "code",
      "metadata": {
        "id": "Ory88wYev-xY",
        "colab_type": "code",
        "colab": {}
      },
      "source": [
        "total_filters = 5\n",
        "conv1 = torch.nn.Conv2d(1,total_filters, 5)\n",
        "filters = conv1(img\n",
        "for filter_no in range(total_filters):\n",
        "  # cv2_imshow(filters.detach().numpy()[0][filter_no]*255)\n",
        "  # cv2_imshow(merge(getBinaryImage((merge(getBinaryImage(filters[0][filter_no].detach().numpy()),img2))),img2))\n",
        "  img1 = getBinaryImage(filters[0][filter_no].detach().numpy())\n",
        "\n",
        "  img2 = np.zeros((24,24))\n",
        "  fading(img2,(10,10))\n",
        "\n",
        "  cv2_imshow(merge(img1,img2))"
      ],
      "execution_count": 0,
      "outputs": []
    },
    {
      "cell_type": "code",
      "metadata": {
        "id": "8k7Pd29GMG5j",
        "colab_type": "code",
        "outputId": "f658d535-30d4-4bd7-be83-3ee9aa0238cd",
        "colab": {
          "base_uri": "https://localhost:8080/",
          "height": 301
        }
      },
      "source": [
        "img = torch.rand((1,1,28,28))\n",
        "  \n",
        "img2 = np.zeros((24,24))\n",
        "fading(img2,(20,20))\n",
        "\n",
        "cv2_imshow(merge(img1,img2))"
      ],
      "execution_count": 0,
      "outputs": [
        {
          "output_type": "error",
          "ename": "ValueError",
          "evalue": "ignored",
          "traceback": [
            "\u001b[0;31m---------------------------------------------------------------------------\u001b[0m",
            "\u001b[0;31mValueError\u001b[0m                                Traceback (most recent call last)",
            "\u001b[0;32m<ipython-input-16-2cfcdd04095c>\u001b[0m in \u001b[0;36m<module>\u001b[0;34m()\u001b[0m\n\u001b[1;32m      4\u001b[0m \u001b[0mfading\u001b[0m\u001b[0;34m(\u001b[0m\u001b[0mimg2\u001b[0m\u001b[0;34m,\u001b[0m\u001b[0;34m(\u001b[0m\u001b[0;36m20\u001b[0m\u001b[0;34m,\u001b[0m\u001b[0;36m20\u001b[0m\u001b[0;34m)\u001b[0m\u001b[0;34m)\u001b[0m\u001b[0;34m\u001b[0m\u001b[0;34m\u001b[0m\u001b[0m\n\u001b[1;32m      5\u001b[0m \u001b[0;34m\u001b[0m\u001b[0m\n\u001b[0;32m----> 6\u001b[0;31m \u001b[0mcv2_imshow\u001b[0m\u001b[0;34m(\u001b[0m\u001b[0mmerge\u001b[0m\u001b[0;34m(\u001b[0m\u001b[0mimg1\u001b[0m\u001b[0;34m,\u001b[0m\u001b[0mimg2\u001b[0m\u001b[0;34m)\u001b[0m\u001b[0;34m)\u001b[0m\u001b[0;34m\u001b[0m\u001b[0;34m\u001b[0m\u001b[0m\n\u001b[0m",
            "\u001b[0;32m<ipython-input-4-43b7ec412871>\u001b[0m in \u001b[0;36mmerge\u001b[0;34m(img1, img2)\u001b[0m\n\u001b[1;32m      1\u001b[0m \u001b[0;32mdef\u001b[0m \u001b[0mmerge\u001b[0m\u001b[0;34m(\u001b[0m\u001b[0mimg1\u001b[0m\u001b[0;34m,\u001b[0m\u001b[0mimg2\u001b[0m\u001b[0;34m)\u001b[0m\u001b[0;34m:\u001b[0m\u001b[0;34m\u001b[0m\u001b[0;34m\u001b[0m\u001b[0m\n\u001b[0;32m----> 2\u001b[0;31m   \u001b[0mret\u001b[0m \u001b[0;34m=\u001b[0m \u001b[0mnp\u001b[0m\u001b[0;34m.\u001b[0m\u001b[0mmultiply\u001b[0m\u001b[0;34m(\u001b[0m\u001b[0mimg1\u001b[0m\u001b[0;34m,\u001b[0m\u001b[0mimg2\u001b[0m\u001b[0;34m)\u001b[0m\u001b[0;34m\u001b[0m\u001b[0;34m\u001b[0m\u001b[0m\n\u001b[0m\u001b[1;32m      3\u001b[0m   \u001b[0;32mreturn\u001b[0m \u001b[0mret\u001b[0m\u001b[0;34m\u001b[0m\u001b[0;34m\u001b[0m\u001b[0m\n",
            "\u001b[0;31mValueError\u001b[0m: operands could not be broadcast together with shapes (20,20) (24,24) "
          ]
        }
      ]
    },
    {
      "cell_type": "code",
      "metadata": {
        "id": "qtIPvyXlk_0N",
        "colab_type": "code",
        "colab": {}
      },
      "source": [
        "filters.detach().numpy()[0][0]"
      ],
      "execution_count": 0,
      "outputs": []
    },
    {
      "cell_type": "code",
      "metadata": {
        "id": "FH3uWMM7laDO",
        "colab_type": "code",
        "colab": {}
      },
      "source": [
        ""
      ],
      "execution_count": 0,
      "outputs": []
    },
    {
      "cell_type": "code",
      "metadata": {
        "id": "UEpIPGholaj4",
        "colab_type": "code",
        "colab": {}
      },
      "source": [
        "filters.detach().numpy()[0][29]*img"
      ],
      "execution_count": 0,
      "outputs": []
    },
    {
      "cell_type": "code",
      "metadata": {
        "id": "3EvXh4CMukUr",
        "colab_type": "code",
        "colab": {}
      },
      "source": [
        "num_epochs = 5\n",
        "batch_size = 100\n",
        "learning_rate = 0.001\n",
        "noises = int(42000/6)\n",
        "\n",
        "train_data = pd.read_csv('train.csv')\n",
        "train_data.head()\n",
        "\n",
        "# test_data = pd.read_csv('./data/test.csv')\n",
        "# test_data.head()\n",
        "\n",
        "class CustomedDataSet(torch.utils.data.Dataset):\n",
        "    def __init__(self, train=True):\n",
        "        self.train = train\n",
        "        if self.train :\n",
        "            dataset = pd.read_csv('train.csv')\n",
        "            # print(dataset)\n",
        "            trainY = dataset.iloc[:,0].values\n",
        "            trainX = dataset.iloc[:,1:].values.reshape(42000 ,1,28,28)\n",
        "            \n",
        "            print(trainY)\n",
        "            \n",
        "            \n",
        "            # print(np.argmax(trainY))\n",
        "            \n",
        "            self.datalist = trainX\n",
        "            self.labellist = trainY\n",
        "        else:\n",
        "            testX = pd.read_csv('./data/test.csv')\n",
        "            testX = testX.as_matrix().reshape(testX.shape[0], 1, 28, 28)\n",
        "            self.datalist = testX\n",
        "            \n",
        "    def __getitem__(self, index):\n",
        "        if self.train:\n",
        "            return torch.Tensor(self.datalist[index].astype(float)),self.labellist[index]\n",
        "        else:\n",
        "            return torch.Tensor(self.datalist[index].astype(float))\n",
        "    \n",
        "    def __len__(self):\n",
        "        return self.datalist.shape[0]\n",
        "\n",
        "train_dataset = CustomedDataSet()\n",
        "\n",
        "train_loader = torch.utils.data.DataLoader(dataset=train_dataset,\n",
        "                                           batch_size=batch_size,\n",
        "                                           shuffle=True,\n",
        "                                           num_workers=2)"
      ],
      "execution_count": 0,
      "outputs": []
    },
    {
      "cell_type": "code",
      "metadata": {
        "id": "3_NFBDwcul1g",
        "colab_type": "code",
        "colab": {}
      },
      "source": [
        "class Net(nn.Module):\n",
        "    def __init__(self):\n",
        "        super(Net, self).__init__()\n",
        "        self.fc1 = nn.Linear(10,100)\n",
        "        self.fc2 = nn.Linear(100,200) \n",
        "        self.fc3 = nn.Linear(200,300) \n",
        "        self.fc4 = nn.Linear(300,500) \n",
        "        self.fc5 = nn.Linear(500,28*28)\n",
        "        self.conv1 = torch.nn.Conv2d(1,30, 5)\n",
        "        self.conv4 = torch.nn.ConvTranspose2d(30,1,5)\n",
        "        \n",
        "        self.soft = nn.Softmax2d()\n",
        "        #self.fc5 = nn.Linear(28*28,)\n",
        "    def forward(self, x, sig = 0):\n",
        "        x = nn.functional.leaky_relu(self.fc1(x))\n",
        "        # x = self.drop(x)\n",
        "        x = nn.functional.leaky_relu(self.fc2(x))\n",
        "        # x = self.drop(x)\n",
        "        x = nn.functional.leaky_relu(self.fc3(x))\n",
        "        # x = self.drop(x)\n",
        "        x = nn.functional.leaky_relu(self.fc4(x))\n",
        "        # x = self.drop(x)\n",
        "        x = nn.functional.relu(self.fc5(x))\n",
        "        \n",
        "        \n",
        "        x = torch.reshape(x,(1,1,28,28))\n",
        "        \n",
        "        x = nn.functional.relu(self.conv1(x))\n",
        "        x = nn.functional.relu(self.conv4(x))\n",
        "\n",
        "        if(sig==1):\n",
        "          x = nn.functional.sigmoid(x)\n",
        "        if(sig==2):\n",
        "          x = self.soft(x)\n",
        "        #x = self.fc5(x)\n",
        "        return x"
      ],
      "execution_count": 0,
      "outputs": []
    }
  ]
}