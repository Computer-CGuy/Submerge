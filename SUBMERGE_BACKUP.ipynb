{
  "nbformat": 4,
  "nbformat_minor": 0,
  "metadata": {
    "colab": {
      "name": "SUBMERGE.ipynb",
      "provenance": [],
      "collapsed_sections": [],
      "toc_visible": true,
      "authorship_tag": "ABX9TyMdaMyCApgOiP30cUHzTzJC",
      "include_colab_link": true
    },
    "kernelspec": {
      "name": "python3",
      "display_name": "Python 3"
    },
    "accelerator": "GPU"
  },
  "cells": [
    {
      "cell_type": "markdown",
      "metadata": {
        "id": "view-in-github",
        "colab_type": "text"
      },
      "source": [
        "<a href=\"https://colab.research.google.com/github/Computer-CGuy/Submerge/blob/master/SUBMERGE_BACKUP.ipynb\" target=\"_parent\"><img src=\"https://colab.research.google.com/assets/colab-badge.svg\" alt=\"Open In Colab\"/></a>"
      ]
    },
    {
      "cell_type": "markdown",
      "metadata": {
        "id": "NowUUlu5OZ6C",
        "colab_type": "text"
      },
      "source": [
        "# SUBMERGE NETWORK\n",
        "\n"
      ]
    },
    {
      "cell_type": "markdown",
      "metadata": {
        "id": "o7HIdGX5OrFO",
        "colab_type": "text"
      },
      "source": [
        "#### Including modules"
      ]
    },
    {
      "cell_type": "code",
      "metadata": {
        "id": "ay-n8Oy06z00",
        "colab_type": "code",
        "colab": {}
      },
      "source": [
        "import numpy as np\n",
        "import pandas as pd\n",
        "import torch\n",
        "import torch.nn as nn\n",
        "import torchvision.datasets as dsets\n",
        "import torchvision.transforms as transforms\n",
        "from torch.autograd import Variable\n",
        "import cv2\n",
        "from google.colab.patches import cv2_imshow\n",
        "from sklearn.preprocessing import OneHotEncoder\n"
      ],
      "execution_count": 0,
      "outputs": []
    },
    {
      "cell_type": "markdown",
      "metadata": {
        "id": "OqlpqH57Nb3w",
        "colab_type": "text"
      },
      "source": [
        ""
      ]
    },
    {
      "cell_type": "code",
      "metadata": {
        "id": "3CrZqJyKbtrG",
        "colab_type": "code",
        "colab": {}
      },
      "source": [
        "import matplotlib.pyplot as plt\n",
        "%matplotlib inline"
      ],
      "execution_count": 0,
      "outputs": []
    },
    {
      "cell_type": "code",
      "metadata": {
        "id": "4iI10W8bssPH",
        "colab_type": "code",
        "colab": {}
      },
      "source": [
        "size = 28\n"
      ],
      "execution_count": 0,
      "outputs": []
    },
    {
      "cell_type": "markdown",
      "metadata": {
        "id": "dKMhXyFmO0PT",
        "colab_type": "text"
      },
      "source": [
        "### Seperate Functions\n",
        "\n",
        "\n",
        "\n",
        "*   ``` getBinaryImage(img) ``` converts image to binary values(0 and 1)\n",
        "\n",
        "\n",
        "\n",
        "*    ``` merge(img1,img2) ``` AND 2 images based on weigths\n",
        "\n",
        "*    ``` fading(img3,cord) ``` takes an image and add cord, and make an epicenter on the image at the cord\n",
        "\n",
        "\n",
        "\n",
        "\n"
      ]
    },
    {
      "cell_type": "code",
      "metadata": {
        "id": "Atm1kClnopGq",
        "colab_type": "code",
        "colab": {}
      },
      "source": [
        ""
      ],
      "execution_count": 0,
      "outputs": []
    },
    {
      "cell_type": "code",
      "metadata": {
        "id": "jmrOFP27otc9",
        "colab_type": "code",
        "colab": {}
      },
      "source": [
        ""
      ],
      "execution_count": 0,
      "outputs": []
    },
    {
      "cell_type": "code",
      "metadata": {
        "id": "C8rFWugRybWf",
        "colab_type": "code",
        "colab": {}
      },
      "source": [
        "def getBinaryImage(img):\n",
        "  ret = np.where(img<0.5,0,1)\n",
        "  return ret"
      ],
      "execution_count": 0,
      "outputs": []
    },
    {
      "cell_type": "code",
      "metadata": {
        "id": "KBhEHOR6uFa1",
        "colab_type": "code",
        "colab": {}
      },
      "source": [
        "def getBinaryImagePt(img):\n",
        "  a1 = nn.Threshold(0.5,1)\n",
        "  # img*=-1\n",
        "  img = a1(img)\n",
        "  # print(img)\n",
        "  img = torch.mul(img,-1)\n",
        "  # print(img)\n",
        "  a2 = nn.Threshold(-0.99,0)\n",
        "  img = a2(img)\n",
        "  \n",
        "  # img*=-1\n",
        "  img = torch.mul(img,-1)\n",
        "\n",
        "  # img = nn.Threshold(0.5,1)\n",
        "  # ones = torch.ones(img.shape)\n",
        "  # zeros = torch.zeros(img.shape)\n",
        "  # ret = torch.where(img<0.5,zeros,ones)\n",
        "  return img"
      ],
      "execution_count": 0,
      "outputs": []
    },
    {
      "cell_type": "code",
      "metadata": {
        "id": "XdzQnKWexmwE",
        "colab_type": "code",
        "colab": {}
      },
      "source": [
        "def merge(img1,img2):\n",
        "  ret = np.multiply(img1,img2)\n",
        "  return ret"
      ],
      "execution_count": 0,
      "outputs": []
    },
    {
      "cell_type": "code",
      "metadata": {
        "id": "AlcUZdUqxWU9",
        "colab_type": "code",
        "colab": {}
      },
      "source": [
        "def mergePt(img1,img2):\n",
        "  rel = torch.mul(img1,img2)\n",
        "  # ret = img1*img2\n",
        "  return ret"
      ],
      "execution_count": 0,
      "outputs": []
    },
    {
      "cell_type": "code",
      "metadata": {
        "id": "l8_Dh3JA70-7",
        "colab_type": "code",
        "colab": {}
      },
      "source": [
        "def fading(img3,cord):\n",
        "  \n",
        "  for color in range(1,255,1):\n",
        "    cv2.circle(img3,cord,2+int(400/color),(color),thickness=-1)\n",
        "  return img3"
      ],
      "execution_count": 0,
      "outputs": []
    },
    {
      "cell_type": "code",
      "metadata": {
        "id": "vNedZJJCLzMj",
        "colab_type": "code",
        "colab": {}
      },
      "source": [
        "def drawCircle(color,cord=(12,12)):\n",
        "  img = np.zeros((size,size))  \n",
        "  r = 5\n",
        "  for x in range(size):\n",
        "    for y in range(size):\n",
        "      dist = ((((x-cord[0])**2)+((y-cord[1])**2))**(1/2))\n",
        "      if(dist<r):\n",
        "        img[x][y] = color\n",
        "  return img\n",
        "        # print(r-dist)\n",
        "  # cv2_imshow(img)"
      ],
      "execution_count": 0,
      "outputs": []
    },
    {
      "cell_type": "code",
      "metadata": {
        "id": "kOjtwK7i49iW",
        "colab_type": "code",
        "colab": {}
      },
      "source": [
        "def sumGrad(img,cord=(12,12)):\n",
        "  # img = np.zeros((size,size))  \n",
        "  r = 5\n",
        "  suma = 0\n",
        "  for x in range(size):\n",
        "    for y in range(size):\n",
        "      dist = ((((x-cord[0])**2)+((y-cord[1])**2))**(1/2))\n",
        "      if(dist<r):\n",
        "        suma+=img[x,y]\n",
        "  return suma\n",
        "        # print(r-dist)\n",
        "  # cv2_imshow(img)"
      ],
      "execution_count": 0,
      "outputs": []
    },
    {
      "cell_type": "code",
      "metadata": {
        "id": "23mmMJH_4vPC",
        "colab_type": "code",
        "colab": {}
      },
      "source": [
        ""
      ],
      "execution_count": 0,
      "outputs": []
    },
    {
      "cell_type": "code",
      "metadata": {
        "id": "u8Qf_aauMp1-",
        "colab_type": "code",
        "colab": {}
      },
      "source": [
        "def fadingPt(cords):\n",
        "  cords = cords.cpu().detach().numpy()\n",
        "  img = np.zeros((10,24,24))\n",
        "  for x in range(10):\n",
        "    # print(cords[x][0])\n",
        "    for color in range(1,255,1):\n",
        "      c = torch.Variable(color)\n",
        "      \n",
        "      # cv2.circle(img[x],(int(cords[x][0]),int(cords[x][1])),2+int(400/color),(color),thickness=-1)\n",
        "  return img"
      ],
      "execution_count": 0,
      "outputs": []
    },
    {
      "cell_type": "code",
      "metadata": {
        "id": "pX8OYfu8xboi",
        "colab_type": "code",
        "colab": {}
      },
      "source": [
        "def fadingPt(cords):\n",
        "  cords = cords.cpu().detach().numpy()\n",
        "  # print(cords)\n",
        "  img = np.zeros((10,size,size))\n",
        "  for x in range(10):\n",
        "    # print(cords[x][0])\n",
        "    for color in range(1,255,1):\n",
        "      cv2.circle(img[x],(int(cords[x][0]),int(cords[x][1])),2+int(400/color),(color),thickness=-1)\n",
        "  img = torch.Tensor(img)\n",
        "  return img"
      ],
      "execution_count": 0,
      "outputs": []
    },
    {
      "cell_type": "code",
      "metadata": {
        "id": "d8CYH3jkMMOC",
        "colab_type": "code",
        "colab": {}
      },
      "source": [
        ""
      ],
      "execution_count": 0,
      "outputs": []
    },
    {
      "cell_type": "code",
      "metadata": {
        "id": "WtKyg7pz57sm",
        "colab_type": "code",
        "outputId": "7ea8cdd4-aeca-4d7e-e987-dcf8d9ac95a4",
        "colab": {
          "base_uri": "https://localhost:8080/",
          "height": 68
        }
      },
      "source": [
        ""
      ],
      "execution_count": 0,
      "outputs": [
        {
          "output_type": "stream",
          "text": [
            "<torch.autograd.function.FadingBackward object at 0x7f7d0b3149e8>\n",
            "tensor([0., 0., 0., 0., 0., 0., 0., 0., 0., 0.], requires_grad=True)\n",
            "tensor([0., 0., 0., 0., 0., 0., 0., 0., 0., 0.], grad_fn=<FadingBackward>)\n"
          ],
          "name": "stdout"
        }
      ]
    },
    {
      "cell_type": "markdown",
      "metadata": {
        "id": "vGu_qPbgP7EX",
        "colab_type": "text"
      },
      "source": [
        "### Truth table of merge"
      ]
    },
    {
      "cell_type": "code",
      "metadata": {
        "id": "onwNAXC5x0PW",
        "colab_type": "code",
        "colab": {}
      },
      "source": [
        " img1 img2\n",
        "1    1    1\n",
        "0    0    0\n",
        "1    0    0\n",
        "0    0    0"
      ],
      "execution_count": 0,
      "outputs": []
    },
    {
      "cell_type": "markdown",
      "metadata": {
        "id": "2kIx7pRbQA15",
        "colab_type": "text"
      },
      "source": [
        "### ``` fading()``` example"
      ]
    },
    {
      "cell_type": "code",
      "metadata": {
        "id": "fkq0RGs9952C",
        "colab_type": "code",
        "colab": {}
      },
      "source": [
        "img2 = np.zeros((size,size))\n",
        "cv2_imshow(fading(img2,(10,10)))"
      ],
      "execution_count": 0,
      "outputs": []
    },
    {
      "cell_type": "markdown",
      "metadata": {
        "id": "uPp8P6E6QgGK",
        "colab_type": "text"
      },
      "source": [
        "### Submerge 2 images"
      ]
    },
    {
      "cell_type": "code",
      "metadata": {
        "id": "ZbgUV_qtQV8u",
        "colab_type": "code",
        "colab": {}
      },
      "source": [
        "img = torch.rand((1,1,24,24))"
      ],
      "execution_count": 0,
      "outputs": []
    },
    {
      "cell_type": "code",
      "metadata": {
        "id": "1FnhnEyCykk5",
        "colab_type": "code",
        "colab": {}
      },
      "source": [
        "cv2_imshow(getBinaryImage(img[0][0].detach().numpy())*255)"
      ],
      "execution_count": 0,
      "outputs": []
    },
    {
      "cell_type": "code",
      "metadata": {
        "id": "ZYzJjFB1zbvG",
        "colab_type": "code",
        "outputId": "30083944-6ce6-4c0d-d2a5-f3c6a8d0f948",
        "colab": {
          "base_uri": "https://localhost:8080/",
          "height": 41
        }
      },
      "source": [
        "cv2_imshow(merge(getBinaryImage(img[0][0].detach().numpy()),img2))"
      ],
      "execution_count": 0,
      "outputs": [
        {
          "output_type": "display_data",
          "data": {
            "image/png": "[encoded data removed]",
            "text/plain": [
              "<PIL.Image.Image image mode=L size=24x24 at 0x7F7BBCBFEC50>"
            ]
          },
          "metadata": {
            "tags": []
          }
        }
      ]
    },
    {
      "cell_type": "markdown",
      "metadata": {
        "id": "OIOr7J-Kbr1-",
        "colab_type": "text"
      },
      "source": [
        "### Application-Type Implementation\n",
        "\n",
        "\n",
        "*   Takes in weights (2D Layer), Location(3D (X,Y) at weights indices) layers.\n",
        "*   Applies the submerge algorithms\n",
        "*   Sums up all the outputs.\n",
        "*   Later difference will also be implemented.\n",
        "\n",
        "#### Sources\n",
        "\n",
        "\n",
        "*   https://stackoverflow.com/questions/16229823/how-to-multiply-numpy-2d-array-with-numpy-1d-array\n",
        "*   https://pytorch.org/docs/stable/torch.html#torch.where\n",
        "*   Read this https://discuss.pytorch.org/t/will-the-slice-operation-on-a-list-be-traced-back-in-autograd/21482/4\n",
        "*   Image to dataframe https://stackoverflow.com/questions/49649215/pandas-image-to-dataframe\n"
      ]
    },
    {
      "cell_type": "code",
      "metadata": {
        "id": "VCuauAcfUank",
        "colab_type": "code",
        "colab": {}
      },
      "source": [
        ""
      ],
      "execution_count": 0,
      "outputs": []
    },
    {
      "cell_type": "code",
      "metadata": {
        "id": "1Qtjou87kFco",
        "colab_type": "code",
        "colab": {}
      },
      "source": [
        "weights = torch.Tensor([[1,2,4]])\n",
        "loc = torch.Tensor([[[0,1],[12,12],[90,90]]])"
      ],
      "execution_count": 0,
      "outputs": []
    },
    {
      "cell_type": "code",
      "metadata": {
        "id": "fWetbwHzJkDJ",
        "colab_type": "code",
        "colab": {}
      },
      "source": [
        ""
      ],
      "execution_count": 0,
      "outputs": []
    },
    {
      "cell_type": "code",
      "metadata": {
        "id": "IRGVgBuvo90K",
        "colab_type": "code",
        "outputId": "7e2a2ba5-9048-41e5-f897-588e5bdfe6a6",
        "colab": {
          "base_uri": "https://localhost:8080/",
          "height": 34
        }
      },
      "source": [
        "weights.shape"
      ],
      "execution_count": 0,
      "outputs": [
        {
          "output_type": "execute_result",
          "data": {
            "text/plain": [
              "torch.Size([1, 3])"
            ]
          },
          "metadata": {
            "tags": []
          },
          "execution_count": 9
        }
      ]
    },
    {
      "cell_type": "code",
      "metadata": {
        "id": "myeeAXWepFlV",
        "colab_type": "code",
        "outputId": "e36ba698-99b7-4b63-dd1e-7a6667c83af7",
        "colab": {
          "base_uri": "https://localhost:8080/",
          "height": 34
        }
      },
      "source": [
        "loc.shape"
      ],
      "execution_count": 0,
      "outputs": [
        {
          "output_type": "execute_result",
          "data": {
            "text/plain": [
              "torch.Size([1, 3, 2])"
            ]
          },
          "metadata": {
            "tags": []
          },
          "execution_count": 10
        }
      ]
    },
    {
      "cell_type": "code",
      "metadata": {
        "id": "Iv-uzsgQtUt0",
        "colab_type": "code",
        "colab": {}
      },
      "source": [
        "memory = getBinaryImagePt(torch.rand((1,10,24,24)))"
      ],
      "execution_count": 0,
      "outputs": []
    },
    {
      "cell_type": "code",
      "metadata": {
        "id": "EeUPVbaBtdtF",
        "colab_type": "code",
        "outputId": "0dcb1ddb-cc76-47ba-97de-2e4d5e40f662",
        "colab": {
          "base_uri": "https://localhost:8080/",
          "height": 41
        }
      },
      "source": [
        "cv2_imshow(memory[0][0].detach().numpy()*255)"
      ],
      "execution_count": 0,
      "outputs": [
        {
          "output_type": "display_data",
          "data": {
            "image/png": "[encoded data removed]",
            "text/plain": [
              "<PIL.Image.Image image mode=L size=24x24 at 0x7F404D13C278>"
            ]
          },
          "metadata": {
            "tags": []
          }
        }
      ]
    },
    {
      "cell_type": "code",
      "metadata": {
        "id": "lPqFcSMjxKQk",
        "colab_type": "code",
        "colab": {}
      },
      "source": [
        "cords = (torch.rand((10,2))*24).round().int()"
      ],
      "execution_count": 0,
      "outputs": []
    },
    {
      "cell_type": "code",
      "metadata": {
        "id": "a29vpmD27DLb",
        "colab_type": "code",
        "colab": {}
      },
      "source": [
        "subms = torch.Tensor(fadingPt(cords))\n",
        "add_subms = torch.mul(subms,memory)"
      ],
      "execution_count": 0,
      "outputs": []
    },
    {
      "cell_type": "code",
      "metadata": {
        "id": "Hb6jAEfx_0IB",
        "colab_type": "code",
        "outputId": "eb55873b-7cd8-49f8-db94-6103ea0e99f0",
        "colab": {
          "base_uri": "https://localhost:8080/",
          "height": 34
        }
      },
      "source": [
        "add_subms.shape"
      ],
      "execution_count": 0,
      "outputs": [
        {
          "output_type": "execute_result",
          "data": {
            "text/plain": [
              "torch.Size([1, 10, 24, 24])"
            ]
          },
          "metadata": {
            "tags": []
          },
          "execution_count": 76
        }
      ]
    },
    {
      "cell_type": "code",
      "metadata": {
        "id": "dxjuGQ7KACij",
        "colab_type": "code",
        "colab": {}
      },
      "source": [
        "added = (add_subms.mean(dim=1))"
      ],
      "execution_count": 0,
      "outputs": []
    },
    {
      "cell_type": "code",
      "metadata": {
        "id": "HAPz3c31APR4",
        "colab_type": "code",
        "outputId": "1846ff00-5909-490e-932f-abc03d087618",
        "colab": {
          "base_uri": "https://localhost:8080/",
          "height": 34
        }
      },
      "source": [
        "added.shape"
      ],
      "execution_count": 0,
      "outputs": [
        {
          "output_type": "execute_result",
          "data": {
            "text/plain": [
              "torch.Size([1, 24, 24])"
            ]
          },
          "metadata": {
            "tags": []
          },
          "execution_count": 99
        }
      ]
    },
    {
      "cell_type": "code",
      "metadata": {
        "id": "maolsIHpAJWR",
        "colab_type": "code",
        "outputId": "5b33fa7c-7c0d-4382-a4d4-e7d9e2d95b46",
        "colab": {
          "base_uri": "https://localhost:8080/",
          "height": 41
        }
      },
      "source": [
        "cv2_imshow(added[0].cpu().detach().numpy())"
      ],
      "execution_count": 0,
      "outputs": [
        {
          "output_type": "display_data",
          "data": {
            "image/png": "[encoded data removed]",
            "text/plain": [
              "<PIL.Image.Image image mode=L size=24x24 at 0x7F2C6E54E208>"
            ]
          },
          "metadata": {
            "tags": []
          }
        }
      ]
    },
    {
      "cell_type": "code",
      "metadata": {
        "id": "xe_B2ALx-clg",
        "colab_type": "code",
        "outputId": "ab81d0fa-a735-46e0-a218-a0be45a10ef6",
        "colab": {
          "base_uri": "https://localhost:8080/",
          "height": 257
        }
      },
      "source": [
        "for h in range(10):\n",
        "  cv2_imshow(add_subms[0][h].cpu().detach().numpy())"
      ],
      "execution_count": 0,
      "outputs": [
        {
          "output_type": "display_data",
          "data": {
            "image/png": "[encoded data removed]",
            "text/plain": [
              "<PIL.Image.Image image mode=L size=24x24 at 0x7F2C6E59BBE0>"
            ]
          },
          "metadata": {
            "tags": []
          }
        },
        {
          "output_type": "display_data",
          "data": {
            "image/png": "[encoded data removed]",
            "text/plain": [
              "<PIL.Image.Image image mode=L size=24x24 at 0x7F2C6E59BC88>"
            ]
          },
          "metadata": {
            "tags": []
          }
        },
        {
          "output_type": "display_data",
          "data": {
            "image/png": "[encoded data removed]",
            "text/plain": [
              "<PIL.Image.Image image mode=L size=24x24 at 0x7F2C6E59BEF0>"
            ]
          },
          "metadata": {
            "tags": []
          }
        },
        {
          "output_type": "display_data",
          "data": {
            "image/png": "[encoded data removed]",
            "text/plain": [
              "<PIL.Image.Image image mode=L size=24x24 at 0x7F2C6E59B908>"
            ]
          },
          "metadata": {
            "tags": []
          }
        },
        {
          "output_type": "display_data",
          "data": {
            "image/png": "[encoded data removed]",
            "text/plain": [
              "<PIL.Image.Image image mode=L size=24x24 at 0x7F2C6E59B080>"
            ]
          },
          "metadata": {
            "tags": []
          }
        },
        {
          "output_type": "display_data",
          "data": {
            "image/png": "[encoded data removed]",
            "text/plain": [
              "<PIL.Image.Image image mode=L size=24x24 at 0x7F2C6E59BBE0>"
            ]
          },
          "metadata": {
            "tags": []
          }
        },
        {
          "output_type": "display_data",
          "data": {
            "image/png": "[encoded data removed]",
            "text/plain": [
              "<PIL.Image.Image image mode=L size=24x24 at 0x7F2C6E59BC88>"
            ]
          },
          "metadata": {
            "tags": []
          }
        },
        {
          "output_type": "display_data",
          "data": {
            "image/png": "[encoded data removed]",
            "text/plain": [
              "<PIL.Image.Image image mode=L size=24x24 at 0x7F2C6E59BEF0>"
            ]
          },
          "metadata": {
            "tags": []
          }
        },
        {
          "output_type": "display_data",
          "data": {
            "image/png": "[encoded data removed]",
            "text/plain": [
              "<PIL.Image.Image image mode=L size=24x24 at 0x7F2C6E59B908>"
            ]
          },
          "metadata": {
            "tags": []
          }
        },
        {
          "output_type": "display_data",
          "data": {
            "image/png": "[encoded data removed]",
            "text/plain": [
              "<PIL.Image.Image image mode=L size=24x24 at 0x7F2C6E59B080>"
            ]
          },
          "metadata": {
            "tags": []
          }
        }
      ]
    },
    {
      "cell_type": "code",
      "metadata": {
        "id": "7J270FLttogD",
        "colab_type": "code",
        "outputId": "4f606e4c-cb13-4541-be0b-367200c46196",
        "colab": {
          "base_uri": "https://localhost:8080/",
          "height": 34
        }
      },
      "source": [
        "weights = torch.rand(10)\n",
        "mul = add_subms* weights[:,None,None]\n",
        "mul.shape"
      ],
      "execution_count": 0,
      "outputs": [
        {
          "output_type": "execute_result",
          "data": {
            "text/plain": [
              "torch.Size([1, 10, 24, 24])"
            ]
          },
          "metadata": {
            "tags": []
          },
          "execution_count": 102
        }
      ]
    },
    {
      "cell_type": "code",
      "metadata": {
        "id": "w3vMmyVHwV34",
        "colab_type": "code",
        "outputId": "451a110a-229a-46d8-ab2c-0e93d15af4b6",
        "colab": {
          "base_uri": "https://localhost:8080/",
          "height": 41
        }
      },
      "source": [
        "image = torch.sum(mul,1)\n",
        "image.shape\n",
        "cv2_imshow(image.detach().numpy()[0])"
      ],
      "execution_count": 0,
      "outputs": [
        {
          "output_type": "display_data",
          "data": {
            "image/png": "[encoded data removed]",
            "text/plain": [
              "<PIL.Image.Image image mode=L size=24x24 at 0x7F2C6E54E860>"
            ]
          },
          "metadata": {
            "tags": []
          }
        }
      ]
    },
    {
      "cell_type": "markdown",
      "metadata": {
        "id": "MKfoacD0J6kO",
        "colab_type": "text"
      },
      "source": [
        "### Functions Equality"
      ]
    },
    {
      "cell_type": "code",
      "metadata": {
        "id": "WMVzCjF0J5sX",
        "colab_type": "code",
        "colab": {}
      },
      "source": [
        "def getImageAdd(cords_add,memory_add,weights_add):\n",
        "  memory = getBinaryImagePt(memory_add)\n",
        "  # cords = (torch.rand((10,2))*24).round().int()\n",
        "  subms_add = torch.Tensor(fadingPt(cords_add)).cuda()\n",
        "  add_subms = torch.mul(subms_add,memory_add)\n",
        "  # print(add_subms.shape)\n",
        "  # weights = torch.rand(10)\n",
        "  # add_subms.mul()\n",
        "  mul = add_subms * weights_add[:,None,None]\n",
        "  # u = weights[:,None,None].mul(add_subms)\n",
        "  image = torch.sum(mul,dim=1)\n",
        "  # mul.sum(dim=1)\n",
        "  return image"
      ],
      "execution_count": 0,
      "outputs": []
    },
    {
      "cell_type": "code",
      "metadata": {
        "id": "qwCuZOxkcmc-",
        "colab_type": "code",
        "colab": {}
      },
      "source": [
        "def getImageSub(cords_sub,memory_sub,weights_sub):\n",
        "  memory = getBinaryImagePt(memory_sub)\n",
        "  # cords = (torch.rand((10,2))*24).round().int()\n",
        "  subms_sub = torch.Tensor(fadingPt(cords_sub)).cuda()\n",
        "  add_subms = torch.mul(subms_sub,memory_sub)\n",
        "  # weights = torch.rand(10)\n",
        "  # add_subms.mul()\n",
        "  mul = add_subms * weights_sub[:,None,None]\n",
        "  # u = weights[:,None,None].mul(add_subms)\n",
        "  image = torch.sum(mul,dim=1)\n",
        "  # mul.sum(dim=1)\n",
        "  return image"
      ],
      "execution_count": 0,
      "outputs": []
    },
    {
      "cell_type": "code",
      "metadata": {
        "id": "KHC0oT8DLucT",
        "colab_type": "code",
        "colab": {}
      },
      "source": [
        "weights_add = torch.rand(10,requires_grad=True)\n",
        "memory_add = getBinaryImagePt(torch.rand((1,10,24,24),requires_grad=True))\n",
        "cords_add = (torch.rand((10,2),requires_grad=True)*24).round().int()"
      ],
      "execution_count": 0,
      "outputs": []
    },
    {
      "cell_type": "code",
      "metadata": {
        "id": "6GdXUlkgPdrA",
        "colab_type": "code",
        "outputId": "9ce74ca2-fff0-45ed-8499-12cc15a976a7",
        "colab": {
          "base_uri": "https://localhost:8080/",
          "height": 34
        }
      },
      "source": [
        "torch.manual_seed(200)"
      ],
      "execution_count": 0,
      "outputs": [
        {
          "output_type": "execute_result",
          "data": {
            "text/plain": [
              "<torch._C.Generator at 0x7f2c787d2490>"
            ]
          },
          "metadata": {
            "tags": []
          },
          "execution_count": 276
        }
      ]
    },
    {
      "cell_type": "code",
      "metadata": {
        "id": "mbG3iz6Ba7JL",
        "colab_type": "code",
        "colab": {}
      },
      "source": [
        ""
      ],
      "execution_count": 0,
      "outputs": []
    },
    {
      "cell_type": "code",
      "metadata": {
        "id": "NaNgxJZJNZaV",
        "colab_type": "code",
        "outputId": "58146cf6-1bcf-4826-d81b-e5b5050be777",
        "colab": {
          "base_uri": "https://localhost:8080/",
          "height": 41
        }
      },
      "source": [
        "add = (getImageAdd(cords_add,memory_add,weights_add)[0].cpu().detach().numpy())\n",
        "\n",
        "cv2_imshow(add)"
      ],
      "execution_count": 0,
      "outputs": [
        {
          "output_type": "display_data",
          "data": {
            "image/png": "[encoded data removed]",
            "text/plain": [
              "<PIL.Image.Image image mode=L size=24x24 at 0x7F2C6E54EF98>"
            ]
          },
          "metadata": {
            "tags": []
          }
        }
      ]
    },
    {
      "cell_type": "code",
      "metadata": {
        "id": "MprXO5U5N8a5",
        "colab_type": "code",
        "colab": {}
      },
      "source": [
        "weights_sub = torch.rand(10)\n",
        "memory_sub = getBinaryImagePt(torch.rand((1,10,24,24)))\n",
        "cords_sub = (torch.rand((10,2))*24).round().int()"
      ],
      "execution_count": 0,
      "outputs": []
    },
    {
      "cell_type": "code",
      "metadata": {
        "id": "6aJPcbImeqvN",
        "colab_type": "code",
        "colab": {}
      },
      "source": [
        ""
      ],
      "execution_count": 0,
      "outputs": []
    },
    {
      "cell_type": "code",
      "metadata": {
        "id": "h7i_g21AOCcQ",
        "colab_type": "code",
        "outputId": "17319c40-2ec7-444d-9651-c8dbd2d468f4",
        "colab": {
          "base_uri": "https://localhost:8080/",
          "height": 41
        }
      },
      "source": [
        "sub = (getImageSub(cords_sub,memory_sub,weights_sub)[0].cpu().detach().numpy())\n",
        "cv2_imshow(sub)"
      ],
      "execution_count": 0,
      "outputs": [
        {
          "output_type": "display_data",
          "data": {
            "image/png": "[encoded data removed]",
            "text/plain": [
              "<PIL.Image.Image image mode=L size=24x24 at 0x7F2C6E536080>"
            ]
          },
          "metadata": {
            "tags": []
          }
        }
      ]
    },
    {
      "cell_type": "code",
      "metadata": {
        "id": "_laWd92lOPmL",
        "colab_type": "code",
        "outputId": "f10535aa-58d3-48e1-fe98-d450a8cf097d",
        "colab": {
          "base_uri": "https://localhost:8080/",
          "height": 41
        }
      },
      "source": [
        "cv2_imshow(add-sub)    "
      ],
      "execution_count": 0,
      "outputs": [
        {
          "output_type": "display_data",
          "data": {
            "image/png": "[encoded data removed]",
            "text/plain": [
              "<PIL.Image.Image image mode=L size=24x24 at 0x7F2C6E54E3C8>"
            ]
          },
          "metadata": {
            "tags": []
          }
        }
      ]
    },
    {
      "cell_type": "markdown",
      "metadata": {
        "id": "WrNpLCuHaBRp",
        "colab_type": "text"
      },
      "source": [
        "### Pytorch Implementation"
      ]
    },
    {
      "cell_type": "code",
      "metadata": {
        "id": "I9FXEcZfBybt",
        "colab_type": "code",
        "colab": {}
      },
      "source": [
        ""
      ],
      "execution_count": 0,
      "outputs": []
    },
    {
      "cell_type": "code",
      "metadata": {
        "id": "4x8F3CXxZ_YP",
        "colab_type": "code",
        "colab": {}
      },
      "source": [
        "class Fading(torch.autograd.Function):\n",
        "    @staticmethod\n",
        "    def forward(ctx,input,memory_add,mines,memory_sub):\n",
        "        # input = input[0]/\n",
        "        # print(input)\n",
        "        # with torch.no_grad():\n",
        "        # print(input.grad_fn)\n",
        "        ins = input\n",
        "\n",
        "        # with torch.no_grad():\n",
        "        \n",
        "        input = input[0]\n",
        "        indices = mines*3\n",
        "        add = input[:indices]\n",
        "        \n",
        "        cords_add = add[:(mines*2)]\n",
        "        # print(cords_add)\n",
        "        cords_add = cords_add.view((10,2)).int()\n",
        "        # print(cords_add)\n",
        "        weights_add = add[(mines*2):]\n",
        "        add1 = getImageAdd(cords_add,memory_add,weights_add)\n",
        "\n",
        "        sub = input[indices:]\n",
        "        cords_sub = sub[:(mines*2)].int()\n",
        "        cords_sub = cords_sub.view((10,2)).int()\n",
        "\n",
        "        weights_sub = sub[(mines*2):]\n",
        "        sub1 = getImageSub(cords_sub,memory_sub,weights_sub)\n",
        "        \n",
        "        output = add1-sub1\n",
        "        \n",
        "        # \"\"\"\n",
        "        # In the forward pass we receive a Tensor containing the input and return\n",
        "        # a Tensor containing the output. ctx is a context object that can be used\n",
        "        # to stash information for backward computation. You can cache arbitrary\n",
        "        # objects for use in the backward pass using the ctx.save_for_backward method.\n",
        "        # \"\"\"\n",
        "        # # print(ctx)\n",
        "        # # print(input)\n",
        "        # ret = torch.cat((ins.squeeze(0),output.flatten()))\n",
        "        # ctx.save_for_backward(ins.squeeze(0))\n",
        "\n",
        "        # print(input.shape)\n",
        "        # print(output.shape)\n",
        "        # print(ins.grad_fn)\n",
        "        # a = torch.cat((ins.squeeze(0),output.flatten()))\n",
        "        ctx.save_for_backward(ins,output,cords_add,cords_sub)\n",
        "        # ctx.save_for_backward(output)\n",
        "        \n",
        "        # return output,ins\n",
        "        return (ins,output)\n",
        "    @staticmethod\n",
        "    def backward(ctx, grad_output,grad_output1):\n",
        "        # print(grad_output1.shape)\n",
        "        # print(grad_output)\n",
        "        global GRAD\n",
        "        GRAD = (grad_output,grad_output1)\n",
        "        # print('go',grad_output)\n",
        "        # print('g1',grad_output1)\n",
        "        \"\"\"\n",
        "        In the backward pass we receive a Tensor containing the gradient of the loss\n",
        "        with respect to the output, and we need to compute the gradient of the loss\n",
        "        with respect to the input.\n",
        "        \"\"\"\n",
        "        # print(ctx.saved_tensors)\n",
        "        input,out,cords_add,cords_sub = ctx.saved_tensors\n",
        "        grad_input = grad_output.clone()\n",
        "        # grad_input[input < 0] = 0\n",
        "        # return out*grad_input,None,None,None\n",
        "        # return input*grad_output\n",
        "        # print(grad_output.shape)\n",
        "        ##m = grad_output1.mean().cpu().detach().numpy()\n",
        "        # print(m)\n",
        "        ##e = torch.Tensor(np.array([m for x in range(60)])).unsqueeze(0).cuda()\n",
        "        # seq1 = [0.9 for x in range(20)]\n",
        "        # seq2 = [0.2 for x in range(10)]\n",
        "        # comb = seq1+seq2+seq1+seq2\n",
        "        # s = torch.Tensor(np.array([comb])).unsqueeze(0).cuda()\n",
        "        \n",
        "        # print(e)\n",
        "        # print(grad_output)\n",
        "        \n",
        "        # i = torch.Tensor(getGRAD(GRAD[0][0].detach().cpu().numpy(),GRAD[1][0].detach().cpu().numpy(),10)).cuda().unsqueeze(0)\n",
        "        # global gr\n",
        "        # gr = i\n",
        "        # j = GRAD[1].mean()\n",
        "        # i = i/((i.mean()/j))\n",
        "        mines = 10\n",
        "        #For ADD\n",
        "        ine = input\n",
        "        input = np.array([0 for x in range(mines*6)])\n",
        "        for x_x in range(mines):\n",
        "            grad_temp = sumGrad(GRAD[1],cord=(cords_add[x_x].detch().cpu().numpy().tolist()))\n",
        "            input[  x_x*2  , x_x*2+1 ] = grad_temp\n",
        "            input[mines*2 + x_x] = grad_temp\n",
        "\n",
        "        #For SUB\n",
        "        for x_x in range(mines*3,mines*5):\n",
        "            grad_temp = sumGrad(GRAD[1],cord=(cords_sub[mines*3-x_x].detch().cpu().numpy().tolist()))\n",
        "            input[  x_x*2  , x_x*2+1 ] = grad_temp\n",
        "            input[mines*2 + x_x] = grad_temp\n",
        "        input = Torch.tensor(input)\n",
        "        return input,None,None,None"
      ],
      "execution_count": 0,
      "outputs": []
    },
    {
      "cell_type": "code",
      "metadata": {
        "id": "CcZoNoefPazf",
        "colab_type": "code",
        "colab": {}
      },
      "source": [
        "seq1 = [0.9 for x in range(20)]\n",
        "seq2 = [0.2 for x in range(10)]\n"
      ],
      "execution_count": 0,
      "outputs": []
    },
    {
      "cell_type": "code",
      "metadata": {
        "id": "c0io82NzPnwc",
        "colab_type": "code",
        "outputId": "b3bf80d5-ba51-462c-aff1-d7286ef404fe",
        "colab": {
          "base_uri": "https://localhost:8080/",
          "height": 54
        }
      },
      "source": [
        "print(seq1+seq2)"
      ],
      "execution_count": 0,
      "outputs": [
        {
          "output_type": "stream",
          "text": [
            "[0.9, 0.9, 0.9, 0.9, 0.9, 0.9, 0.9, 0.9, 0.9, 0.9, 0.9, 0.9, 0.9, 0.9, 0.9, 0.9, 0.9, 0.9, 0.9, 0.9, 0.2, 0.2, 0.2, 0.2, 0.2, 0.2, 0.2, 0.2, 0.2, 0.2]\n"
          ],
          "name": "stdout"
        }
      ]
    },
    {
      "cell_type": "code",
      "metadata": {
        "id": "jrshycQ8-1J3",
        "colab_type": "code",
        "outputId": "3fc13272-d00d-40ff-ab90-3b61271020ea",
        "colab": {
          "base_uri": "https://localhost:8080/",
          "height": 35
        }
      },
      "source": [
        "GRAD[0].shape"
      ],
      "execution_count": 0,
      "outputs": [
        {
          "output_type": "execute_result",
          "data": {
            "text/plain": [
              "torch.Size([1, 60])"
            ]
          },
          "metadata": {
            "tags": []
          },
          "execution_count": 19
        }
      ]
    },
    {
      "cell_type": "code",
      "metadata": {
        "id": "fJYDc2ve-5h3",
        "colab_type": "code",
        "outputId": "fed5ad6c-3fb8-48e2-92e3-672d491484af",
        "colab": {
          "base_uri": "https://localhost:8080/",
          "height": 35
        }
      },
      "source": [
        "GRAD[1].shape"
      ],
      "execution_count": 0,
      "outputs": [
        {
          "output_type": "execute_result",
          "data": {
            "text/plain": [
              "torch.Size([1, 28, 28])"
            ]
          },
          "metadata": {
            "tags": []
          },
          "execution_count": 20
        }
      ]
    },
    {
      "cell_type": "code",
      "metadata": {
        "id": "AA7ga0J_-7vA",
        "colab_type": "code",
        "colab": {}
      },
      "source": [
        "from sklearn.cluster import KMeans\n",
        "from math import pi\n",
        "def getCenter(data,u=0):\n",
        "  if(u!=0):\n",
        "    data[:,2] = (data[:,2].max()-data[:,2])\n",
        "  kmeans = KMeans(n_clusters=10, random_state=1)\n",
        "  kmeans.fit(data[:,:2],sample_weight=data[:,2])\n",
        "  center = kmeans.cluster_centers_\n",
        "  return center\n",
        "def distancei(a,b,i):\n",
        "  return abs(a[i]-b[i])\n",
        "  # return (  ((a[0]-b[0])**2)+ ((a[1]-b[1])**2) )**(1/2)\n",
        "def getGRAD(input,grad,index):\n",
        "  img = ImageToData2D(grad)\n",
        "  \n",
        "  ret = np.copy(input)\n",
        "\n",
        "  for u in [0,index*3]:\n",
        "    l = input[u:(index*2)+u].reshape(-1,2)\n",
        "    center  = getCenter(img,u)\n",
        "    for x in range(len(l)):\n",
        "      minx = 999999\n",
        "      miny = 999999\n",
        "      wix = 999999\n",
        "      for y in range(len(center)):\n",
        "        wx = getJuclideanDistance(l[x],center[y],10)\n",
        "        dy = getEuclideanDistance(l[x],center[y])\n",
        "        # dy = distancei(l[x],center[y],1)\n",
        "        if(wx<wix):\n",
        "          wix = wx\n",
        "        if(dy<miny):\n",
        "          miny = dy\n",
        "      ret[u+(x*2)]=miny\n",
        "      ret[u+(x*2)+1]=miny\n",
        "      ret[u+(index*2)+x] = wx\n",
        "      # ret[u+(index*2)+x]=((minx**2)+(miny**2))**(1/2)\n",
        "      # print(u+(x*2),minx)\n",
        "  return ret\n",
        "def ImageToData2D(img):\n",
        "    colourArray = np.array(img).reshape((img.shape[1],img.shape[0]) + (1,))\n",
        "    indicesArray = np.moveaxis(np.indices((img.shape[1],img.shape[0])), 0, 2)\n",
        "    # print(indicesArray.shape)\n",
        "    # print(colourArray.shape)\n",
        "    allArray = np.dstack((indicesArray, colourArray)).reshape((-1, 3))\n",
        "    \n",
        "    return allArray\n",
        "def getEuclideanDistance(a,b):\n",
        "    return (((a[0]-b[0])**(2))+((a[1]-b[1])**(2)))**(1/2)\n",
        "def getJuclideanDistance(c1,c2,r=2):\n",
        "    d = getEuclideanDistance(c1,c2)\n",
        "    # r = 6\n",
        "    common_area = getAreaOfIntersection(d,r)\n",
        "    # print(common_area)\n",
        "    ret = (common_area/((2*areaOfCircle(r))-common_area))\n",
        "    # print(ret)\n",
        "    \n",
        "    # /\n",
        "    # if(ret>0):\n",
        "    #   ret = (1-ret)\n",
        "    # else:\n",
        "    #   ret = 1\n",
        "    # ret = 1-ret\n",
        "    return 1-ret\n",
        "def areaOfCircle(r):\n",
        "    return pi*(r**2)\n",
        "def getAreaOfIntersection(d,r):\n",
        "    R = r\n",
        "    # if(d<r):\n",
        "    ni= ((-d+r+R)*(d+r-R)*(d-r+R)*(d+r+R))\n",
        "    if(ni<0):\n",
        "      # area = 0\n",
        "      ni = 0\n",
        "    area = (1/2)*(ni**(1/2))\n",
        "    # print(area)\n",
        "    # print(ni)\n",
        "    \n",
        "    # if(d>r):\n",
        "    # area = 0\n",
        "    return area"
      ],
      "execution_count": 0,
      "outputs": []
    },
    {
      "cell_type": "code",
      "metadata": {
        "id": "7qL4e5F4_35j",
        "colab_type": "code",
        "outputId": "a8e36387-7d3a-4c9d-d1f3-b1d4f7acd4bb",
        "colab": {
          "base_uri": "https://localhost:8080/",
          "height": 35
        }
      },
      "source": [
        "getJuclideanDistance([24,1],[0,1],r=10)"
      ],
      "execution_count": 0,
      "outputs": [
        {
          "output_type": "execute_result",
          "data": {
            "text/plain": [
              "1.0"
            ]
          },
          "metadata": {
            "tags": []
          },
          "execution_count": 11
        }
      ]
    },
    {
      "cell_type": "code",
      "metadata": {
        "id": "zV43pIV9AtIb",
        "colab_type": "code",
        "outputId": "f880380e-f04d-4135-e24f-f6645a0fda6e",
        "colab": {
          "base_uri": "https://localhost:8080/",
          "height": 35
        }
      },
      "source": [
        "15.612494995995995/((2*areaOfCircle(4))-15.612494995995995)"
      ],
      "execution_count": 0,
      "outputs": [
        {
          "output_type": "execute_result",
          "data": {
            "text/plain": [
              "0.1838527591336798"
            ]
          },
          "metadata": {
            "tags": []
          },
          "execution_count": 105
        }
      ]
    },
    {
      "cell_type": "code",
      "metadata": {
        "id": "ZYqg9j6YvW4I",
        "colab_type": "code",
        "outputId": "26f32f42-1675-4a95-977e-3848864e2dc9",
        "colab": {
          "base_uri": "https://localhost:8080/",
          "height": 35
        }
      },
      "source": [
        "pi"
      ],
      "execution_count": 0,
      "outputs": [
        {
          "output_type": "execute_result",
          "data": {
            "text/plain": [
              "3.141592653589793"
            ]
          },
          "metadata": {
            "tags": []
          },
          "execution_count": 3
        }
      ]
    },
    {
      "cell_type": "code",
      "metadata": {
        "id": "lyLCsHyMCbOC",
        "colab_type": "code",
        "outputId": "d201e44c-2429-42ca-f5b4-bbb334d40943",
        "colab": {
          "base_uri": "https://localhost:8080/",
          "height": 35
        }
      },
      "source": [
        "GRAD[0].shape"
      ],
      "execution_count": 0,
      "outputs": [
        {
          "output_type": "execute_result",
          "data": {
            "text/plain": [
              "torch.Size([1, 60])"
            ]
          },
          "metadata": {
            "tags": []
          },
          "execution_count": 25
        }
      ]
    },
    {
      "cell_type": "code",
      "metadata": {
        "id": "jwGjPBZh-8vo",
        "colab_type": "code",
        "outputId": "00e79aee-8ef8-45e7-9d9b-34de0e5d2ba8",
        "colab": {
          "base_uri": "https://localhost:8080/",
          "height": 129
        }
      },
      "source": [
        "torch.Tensor(getGRAD(GRAD[0][0].detach().cpu().numpy(),GRAD[1][0].detach().cpu().numpy(),10)).unsqueeze(0)"
      ],
      "execution_count": 0,
      "outputs": [
        {
          "output_type": "stream",
          "text": [
            "(28, 28, 2)\n",
            "(28, 28, 1)\n"
          ],
          "name": "stdout"
        },
        {
          "output_type": "stream",
          "text": [
            "/usr/local/lib/python3.6/dist-packages/ipykernel_launcher.py:6: ConvergenceWarning: Number of distinct clusters (7) found smaller than n_clusters (10). Possibly due to duplicate points in X.\n",
            "  \n"
          ],
          "name": "stderr"
        },
        {
          "output_type": "execute_result",
          "data": {
            "text/plain": [
              "torch.Size([1, 60])"
            ]
          },
          "metadata": {
            "tags": []
          },
          "execution_count": 24
        }
      ]
    },
    {
      "cell_type": "code",
      "metadata": {
        "id": "Hpp0MBCgO5zd",
        "colab_type": "code",
        "colab": {}
      },
      "source": [
        "# Add 30\n",
        "## cords_add 20\n",
        "## wieghts_add 10\n",
        "\n",
        "# Sub 30\n",
        "## cords_sub 20\n",
        "## wieghts_sub 10\n"
      ],
      "execution_count": 0,
      "outputs": []
    },
    {
      "cell_type": "code",
      "metadata": {
        "id": "Qnmpk4aFJAR_",
        "colab_type": "code",
        "colab": {}
      },
      "source": [
        "weights_add = torch.rand(10).cuda()\n",
        "memory_add = getBinaryImagePt(torch.rand((1,10,size,size))).cuda()\n",
        "cords_add = (torch.rand((20))*size).round().cuda()"
      ],
      "execution_count": 0,
      "outputs": []
    },
    {
      "cell_type": "code",
      "metadata": {
        "id": "mve8E9Bonell",
        "colab_type": "code",
        "colab": {}
      },
      "source": [
        "weights_add = torch.Tensor([1,0,0,1,0,0,0,0,0,0])"
      ],
      "execution_count": 0,
      "outputs": []
    },
    {
      "cell_type": "code",
      "metadata": {
        "id": "DULkhXE_JDXN",
        "colab_type": "code",
        "colab": {}
      },
      "source": [
        "weights_sub = torch.rand(10).cuda()\n",
        "memory_sub = getBinaryImagePt(torch.rand((1,10,size,size))).cuda()\n",
        "cords_sub = (torch.rand((20))*size).round().cuda()\n"
      ],
      "execution_count": 0,
      "outputs": []
    },
    {
      "cell_type": "code",
      "metadata": {
        "id": "Xrd_dDw-n5NA",
        "colab_type": "code",
        "colab": {}
      },
      "source": [
        "weights_sub = torch.Tensor([0,0,0,0,0,0,0,0,0,0])"
      ],
      "execution_count": 0,
      "outputs": []
    },
    {
      "cell_type": "code",
      "metadata": {
        "id": "couIrjxLJQbE",
        "colab_type": "code",
        "colab": {}
      },
      "source": [
        "ins = torch.cat((cords_add,weights_add,cords_sub,weights_sub)).cuda()\n",
        "# ins.unsqueeze(0)\n",
        "# ins.unsqueeze(0)\n",
        "\n",
        "mines = 10\n"
      ],
      "execution_count": 0,
      "outputs": []
    },
    {
      "cell_type": "code",
      "metadata": {
        "id": "6L6cBmZyDnuh",
        "colab_type": "code",
        "colab": {}
      },
      "source": [
        "ins = ins.unsqueeze(0)"
      ],
      "execution_count": 0,
      "outputs": []
    },
    {
      "cell_type": "code",
      "metadata": {
        "id": "CxtgzoLXJI6R",
        "colab_type": "code",
        "colab": {}
      },
      "source": [
        "output = Fading.apply(ins,10,memory_add,memory_sub)"
      ],
      "execution_count": 0,
      "outputs": []
    },
    {
      "cell_type": "code",
      "metadata": {
        "id": "-fTIPIJFX8dF",
        "colab_type": "code",
        "outputId": "fef39436-28c5-4a14-d275-ef170ad6691b",
        "colab": {
          "base_uri": "https://localhost:8080/",
          "height": 34
        }
      },
      "source": [
        "output.shape"
      ],
      "execution_count": 0,
      "outputs": [
        {
          "output_type": "execute_result",
          "data": {
            "text/plain": [
              "torch.Size([1, 24, 24])"
            ]
          },
          "metadata": {
            "tags": []
          },
          "execution_count": 22
        }
      ]
    },
    {
      "cell_type": "code",
      "metadata": {
        "id": "xHsJih01JLWO",
        "colab_type": "code",
        "outputId": "09f93f6f-9ac3-495c-d8dd-9fcbd2d61ecd",
        "colab": {
          "base_uri": "https://localhost:8080/",
          "height": 45
        }
      },
      "source": [
        "cv2_imshow(output.detach().cpu().numpy()[0])\n"
      ],
      "execution_count": 0,
      "outputs": [
        {
          "output_type": "display_data",
          "data": {
            "image/png": "[encoded data removed]",
            "text/plain": [
              "<PIL.Image.Image image mode=L size=28x28 at 0x7F64E616BA90>"
            ]
          },
          "metadata": {
            "tags": []
          }
        }
      ]
    },
    {
      "cell_type": "markdown",
      "metadata": {
        "id": "45fZs-JRLSKx",
        "colab_type": "text"
      },
      "source": [
        "### Neural Network Implementation"
      ]
    },
    {
      "cell_type": "code",
      "metadata": {
        "id": "mkjGdlhpWTDz",
        "colab_type": "code",
        "colab": {}
      },
      "source": [
        "class Net(nn.Module):\n",
        "    def __init__(self):\n",
        "        super(Net, self).__init__()\n",
        "        self.fc1 = nn.Linear(10,20)\n",
        "        self.fc2 = nn.Linear(20,30)\n",
        "        self.fc3 = nn.Linear(30,40)\n",
        "        self.fc4 = nn.Linear(40,50)\n",
        "        self.fc5 = nn.Linear(50,60)\n",
        "\n",
        "        # self.fc2 = nn.Linear(100,200) \n",
        "        # self.fc3 = nn.Linear(200,300) \n",
        "        # self.fc4 = nn.Linear(300,500) \n",
        "        # self.fc5 = nn.Linear(500,28*28)\n",
        "        # self.conv1 = torch.nn.Conv2d(1,30, 5)\n",
        "        # self.conv4 = torch.nn.ConvTranspose2d(30,1,5)\n",
        "\n",
        "        self.memory_add = getBinaryImagePt(torch.rand((1,10,size,size),requires_grad=True)).cuda()\n",
        "        self.memory_sub = getBinaryImagePt(torch.rand((1,10,size,size),requires_grad=True)).cuda()\n",
        "\n",
        "\n",
        "        self.sig = torch.nn.Sigmoid()\n",
        "        self.soft = nn.Softmax()\n",
        "        #self.fc5 = nn.Linear(28*28,)\n",
        "    def forward(self, x, sig = 0):\n",
        "        x = nn.functional.relu(self.fc1(x))\n",
        "        # x = self.drop(x)\n",
        "        x = nn.functional.relu(self.fc2(x))\n",
        "        # x = self.drop(x)\n",
        "        x = nn.functional.relu(self.fc3(x))\n",
        "\n",
        "        x = nn.functional.relu(self.fc4(x)) \n",
        "\n",
        "        x = nn.functional.relu(self.fc5(x)) \n",
        "\n",
        "        # # x = self.drop(x)\n",
        "        # x = nn.functional.leaky_relu(self.fc4(x))\n",
        "        # # x = self.drop(x)\n",
        "        # x = nn.functional.leaky_relu(self.fc5(x))\n",
        "        \n",
        "        \n",
        "        # x = x.view(1,1,28,28)\n",
        "        x = Fading.apply(x,self.memory_add,10,self.memory_sub)\n",
        "\n",
        "\n",
        "        # x = nn.functional.leaky_relu(self.conv1(x))\n",
        "        # x = nn.functional.leaky_relu(self.conv4(x))\n",
        "\n",
        "        if(sig==1):\n",
        "          x = self.sig(x)\n",
        "        if(sig==2):\n",
        "          x = self.soft(x)\n",
        "        #x = self.fc5(x)\n",
        "        return x"
      ],
      "execution_count": 0,
      "outputs": []
    },
    {
      "cell_type": "markdown",
      "metadata": {
        "id": "e21_C1fNbez8",
        "colab_type": "text"
      },
      "source": [
        "### Loading the dataset."
      ]
    },
    {
      "cell_type": "code",
      "metadata": {
        "id": "Cu9kt42hbpXE",
        "colab_type": "code",
        "outputId": "3df41d40-a38b-4698-cce1-a9c6d1ed992e",
        "colab": {
          "base_uri": "https://localhost:8080/",
          "height": 122
        }
      },
      "source": [
        "from google.colab import drive\n",
        "drive.mount('/content/drive')"
      ],
      "execution_count": 25,
      "outputs": [
        {
          "output_type": "stream",
          "text": [
            "Go to this URL in a browser: https://accounts.google.com/o/oauth2/auth?client_id=947318989803-6bn6qk8qdgf4n4g3pfee6491hc0brc4i.apps.googleusercontent.com&redirect_uri=urn%3aietf%3awg%3aoauth%3a2.0%3aoob&response_type=code&scope=email%20https%3a%2f%2fwww.googleapis.com%2fauth%2fdocs.test%20https%3a%2f%2fwww.googleapis.com%2fauth%2fdrive%20https%3a%2f%2fwww.googleapis.com%2fauth%2fdrive.photos.readonly%20https%3a%2f%2fwww.googleapis.com%2fauth%2fpeopleapi.readonly\n",
            "\n",
            "Enter your authorization code:\n",
            "··········\n",
            "Mounted at /content/drive\n"
          ],
          "name": "stdout"
        }
      ]
    },
    {
      "cell_type": "code",
      "metadata": {
        "id": "n0DyK4-XbpMZ",
        "colab_type": "code",
        "colab": {}
      },
      "source": [
        "!cp \"drive/My Drive/train.csv\" ./"
      ],
      "execution_count": 0,
      "outputs": []
    },
    {
      "cell_type": "code",
      "metadata": {
        "id": "gA6KMAAzb5Wx",
        "colab_type": "code",
        "colab": {}
      },
      "source": [
        "num_epochs = 5\n",
        "batch_size = 1\n",
        "learning_rate = 0.001\n",
        "noises = int(42000/6)\n",
        "\n",
        "train_data = pd.read_csv('train.csv')\n",
        "train_data.head()\n",
        "\n",
        "\n",
        "trainY = train_data.iloc[:,0].values\n",
        "# trainX = train_data.iloc[:,1:].values.reshape(42000 ,1,28,28)\n",
        "# self.trainY = trainY\n",
        "enc = OneHotEncoder(handle_unknown='ignore')\n",
        "enc.fit_transform(trainY.reshape(-1,1)).shape\n",
        "# test_data = pd.read_csv('./data/test.csv')\n",
        "# test_data.head()\n",
        "\n",
        "class CustomedDataSet(torch.utils.data.Dataset):\n",
        "    def getTrainY(self):\n",
        "        return self.trainY\n",
        "    def __init__(self, train=True):\n",
        "        self.train = train\n",
        "        if self.train :\n",
        "            dataset = pd.read_csv('train.csv')\n",
        "            # print(dataset)\n",
        "            trainY = dataset.iloc[:,0].values\n",
        "            trainX = dataset.iloc[:,1:].values.reshape(42000 ,1,28,28)\n",
        "            # self.trainY = trainY\n",
        "            enc = OneHotEncoder(handle_unknown='ignore')\n",
        "            trainY = enc.fit_transform(trainY.reshape(-1,1)).toarray()\n",
        "            # print(F.one_hot(torch.Tensor(trainY).unsqueeze(0)))\n",
        "            \n",
        "            \n",
        "            # print(np.argmax(trainY))\n",
        "            \n",
        "            self.datalist = trainX\n",
        "            self.labellist = trainY\n",
        "        else:\n",
        "            testX = pd.read_csv('./data/test.csv')\n",
        "            testX = testX.as_matrix().reshape(testX.shape[0], 1, 28, 28)\n",
        "            self.datalist = testX\n",
        "            \n",
        "    def __getitem__(self, index):\n",
        "        if self.train:\n",
        "            return torch.Tensor(self.datalist[index].astype(float)),self.labellist[index]\n",
        "        else:\n",
        "            return torch.Tensor(self.datalist[index].astype(float))\n",
        "    \n",
        "    def __len__(self):\n",
        "        return self.datalist.shape[0]\n",
        "\n",
        "train_dataset = CustomedDataSet()\n",
        "\n",
        "train_loader = torch.utils.data.DataLoader(dataset=train_dataset,\n",
        "                                           batch_size=batch_size,\n",
        "                                           shuffle=True,\n",
        "                                           num_workers=2)\n",
        "\n",
        "\n",
        "\n"
      ],
      "execution_count": 0,
      "outputs": []
    },
    {
      "cell_type": "markdown",
      "metadata": {
        "id": "n1JVoweybLbp",
        "colab_type": "text"
      },
      "source": [
        "### Training the model"
      ]
    },
    {
      "cell_type": "code",
      "metadata": {
        "id": "k--v2yrxbLEu",
        "colab_type": "code",
        "colab": {}
      },
      "source": [
        ""
      ],
      "execution_count": 0,
      "outputs": []
    },
    {
      "cell_type": "code",
      "metadata": {
        "id": "X3iCSxgdZTva",
        "colab_type": "code",
        "outputId": "3577518d-ee43-4162-f651-8868d8b6e537",
        "colab": {
          "base_uri": "https://localhost:8080/",
          "height": 170
        }
      },
      "source": [
        "model = Net().cuda()\n",
        "model.train()"
      ],
      "execution_count": 29,
      "outputs": [
        {
          "output_type": "execute_result",
          "data": {
            "text/plain": [
              "Net(\n",
              "  (fc1): Linear(in_features=10, out_features=20, bias=True)\n",
              "  (fc2): Linear(in_features=20, out_features=30, bias=True)\n",
              "  (fc3): Linear(in_features=30, out_features=40, bias=True)\n",
              "  (fc4): Linear(in_features=40, out_features=50, bias=True)\n",
              "  (fc5): Linear(in_features=50, out_features=60, bias=True)\n",
              "  (sig): Sigmoid()\n",
              "  (soft): Softmax(dim=None)\n",
              ")"
            ]
          },
          "metadata": {
            "tags": []
          },
          "execution_count": 29
        }
      ]
    },
    {
      "cell_type": "code",
      "metadata": {
        "id": "iy0zIrSsZtMI",
        "colab_type": "code",
        "colab": {}
      },
      "source": [
        "criterion = nn.L1Loss()\n",
        "optimizer = torch.optim.Adam(model.parameters(),lr=0.0001)"
      ],
      "execution_count": 0,
      "outputs": []
    },
    {
      "cell_type": "code",
      "metadata": {
        "id": "zTdAiS33OwLU",
        "colab_type": "code",
        "colab": {}
      },
      "source": [
        "criterion = nn.MSELoss()\n",
        "optimizer = torch.optim.Adam(model.parameters(),lr=0.0001)"
      ],
      "execution_count": 0,
      "outputs": []
    },
    {
      "cell_type": "code",
      "metadata": {
        "id": "TGi-O324_u--",
        "colab_type": "code",
        "colab": {}
      },
      "source": [
        "o = torch.Tensor([[0 for x in range(60)]]).cuda().float()"
      ],
      "execution_count": 0,
      "outputs": []
    },
    {
      "cell_type": "code",
      "metadata": {
        "id": "-JKoIZ0F_2uL",
        "colab_type": "code",
        "outputId": "f332626b-3a56-4458-ba69-eea10d4323ba",
        "colab": {
          "base_uri": "https://localhost:8080/",
          "height": 34
        }
      },
      "source": [
        "o.shape"
      ],
      "execution_count": 0,
      "outputs": [
        {
          "output_type": "execute_result",
          "data": {
            "text/plain": [
              "torch.Size([1, 60])"
            ]
          },
          "metadata": {
            "tags": []
          },
          "execution_count": 108
        }
      ]
    },
    {
      "cell_type": "code",
      "metadata": {
        "id": "i1DROB5McQVh",
        "colab_type": "code",
        "outputId": "1a707b66-355b-4235-ea99-f7dafac66669",
        "colab": {
          "base_uri": "https://localhost:8080/",
          "height": 394
        }
      },
      "source": [
        "num_epochs = 10\n",
        "\n",
        "for epoch in range(num_epochs):\n",
        "    loss1 = None\n",
        "    for i, (images, labels) in enumerate(train_loader):\n",
        "        # print(epoch)\n",
        "        # print(i)\n",
        "        images = torch.Tensor(images).cuda()\n",
        "        labels = torch.Tensor(labels.float()).cuda()\n",
        "        \n",
        "        \n",
        "        #Forward + Backward +- Optimize\n",
        "        optimizer.zero_grad()\n",
        "\n",
        "        outputs = model(labels)\n",
        "        # print(outputs.flatten())\n",
        "        # outputs = outputs.unsqueeze(0)\n",
        "        # outputs,out,ind1,ind2 = cnn(images)\n",
        "        \n",
        "        # loss = criterion(outputs,o) \n",
        "\n",
        "        # loss = criterion(outputs[60:].view(1,1,size,size),images)\n",
        "\n",
        "        loss = criterion(outputs[1].unsqueeze(0),images)\n",
        "        loss.backward(retain_graph=True)\n",
        "        optimizer.step()\n",
        "        # if(loss1==None):\n",
        "        #     loss1=loss\n",
        "        # else:\n",
        "        #     loss1+=loss\n",
        "        # if(i%10==0):\n",
        "        #     loss1.backward()\n",
        "        #     optimizer.step()\n",
        "        # break\n",
        "        if (i+1) % 2 == 0:\n",
        "            # print(labels[0], out[0])\n",
        "            cv2_imshow(outputs[1][0].detach().cpu().numpy()*255)\n",
        "            cv2_imshow(images.detach().cpu().numpy()[0][0])\n",
        "            \n",
        "        print ('Epoch [%d/%d], Iter [%d/%d] Loss: %.4f' %(epoch+1, num_epochs, i+1, len(train_dataset)//batch_size, loss.item()))\n",
        "    # break"
      ],
      "execution_count": 33,
      "outputs": [
        {
          "output_type": "error",
          "ename": "RuntimeError",
          "evalue": "ignored",
          "traceback": [
            "\u001b[0;31m---------------------------------------------------------------------------\u001b[0m",
            "\u001b[0;31mRuntimeError\u001b[0m                              Traceback (most recent call last)",
            "\u001b[0;32m<ipython-input-33-93ab76aa97ef>\u001b[0m in \u001b[0;36m<module>\u001b[0;34m()\u001b[0m\n\u001b[1;32m     23\u001b[0m \u001b[0;34m\u001b[0m\u001b[0m\n\u001b[1;32m     24\u001b[0m         \u001b[0mloss\u001b[0m \u001b[0;34m=\u001b[0m \u001b[0mcriterion\u001b[0m\u001b[0;34m(\u001b[0m\u001b[0moutputs\u001b[0m\u001b[0;34m[\u001b[0m\u001b[0;36m1\u001b[0m\u001b[0;34m]\u001b[0m\u001b[0;34m.\u001b[0m\u001b[0munsqueeze\u001b[0m\u001b[0;34m(\u001b[0m\u001b[0;36m0\u001b[0m\u001b[0;34m)\u001b[0m\u001b[0;34m,\u001b[0m\u001b[0mimages\u001b[0m\u001b[0;34m)\u001b[0m\u001b[0;34m\u001b[0m\u001b[0;34m\u001b[0m\u001b[0m\n\u001b[0;32m---> 25\u001b[0;31m         \u001b[0mloss\u001b[0m\u001b[0;34m.\u001b[0m\u001b[0mbackward\u001b[0m\u001b[0;34m(\u001b[0m\u001b[0mretain_graph\u001b[0m\u001b[0;34m=\u001b[0m\u001b[0;32mTrue\u001b[0m\u001b[0;34m)\u001b[0m\u001b[0;34m\u001b[0m\u001b[0;34m\u001b[0m\u001b[0m\n\u001b[0m\u001b[1;32m     26\u001b[0m         \u001b[0moptimizer\u001b[0m\u001b[0;34m.\u001b[0m\u001b[0mstep\u001b[0m\u001b[0;34m(\u001b[0m\u001b[0;34m)\u001b[0m\u001b[0;34m\u001b[0m\u001b[0;34m\u001b[0m\u001b[0m\n\u001b[1;32m     27\u001b[0m         \u001b[0;31m# if(loss1==None):\u001b[0m\u001b[0;34m\u001b[0m\u001b[0;34m\u001b[0m\u001b[0;34m\u001b[0m\u001b[0m\n",
            "\u001b[0;32m/usr/local/lib/python3.6/dist-packages/torch/tensor.py\u001b[0m in \u001b[0;36mbackward\u001b[0;34m(self, gradient, retain_graph, create_graph)\u001b[0m\n\u001b[1;32m    196\u001b[0m                 \u001b[0mproducts\u001b[0m\u001b[0;34m.\u001b[0m \u001b[0mDefaults\u001b[0m \u001b[0mto\u001b[0m\u001b[0;31m \u001b[0m\u001b[0;31m`\u001b[0m\u001b[0;31m`\u001b[0m\u001b[0;32mFalse\u001b[0m\u001b[0;31m`\u001b[0m\u001b[0;31m`\u001b[0m\u001b[0;34m.\u001b[0m\u001b[0;34m\u001b[0m\u001b[0;34m\u001b[0m\u001b[0m\n\u001b[1;32m    197\u001b[0m         \"\"\"\n\u001b[0;32m--> 198\u001b[0;31m         \u001b[0mtorch\u001b[0m\u001b[0;34m.\u001b[0m\u001b[0mautograd\u001b[0m\u001b[0;34m.\u001b[0m\u001b[0mbackward\u001b[0m\u001b[0;34m(\u001b[0m\u001b[0mself\u001b[0m\u001b[0;34m,\u001b[0m \u001b[0mgradient\u001b[0m\u001b[0;34m,\u001b[0m \u001b[0mretain_graph\u001b[0m\u001b[0;34m,\u001b[0m \u001b[0mcreate_graph\u001b[0m\u001b[0;34m)\u001b[0m\u001b[0;34m\u001b[0m\u001b[0;34m\u001b[0m\u001b[0m\n\u001b[0m\u001b[1;32m    199\u001b[0m \u001b[0;34m\u001b[0m\u001b[0m\n\u001b[1;32m    200\u001b[0m     \u001b[0;32mdef\u001b[0m \u001b[0mregister_hook\u001b[0m\u001b[0;34m(\u001b[0m\u001b[0mself\u001b[0m\u001b[0;34m,\u001b[0m \u001b[0mhook\u001b[0m\u001b[0;34m)\u001b[0m\u001b[0;34m:\u001b[0m\u001b[0;34m\u001b[0m\u001b[0;34m\u001b[0m\u001b[0m\n",
            "\u001b[0;32m/usr/local/lib/python3.6/dist-packages/torch/autograd/__init__.py\u001b[0m in \u001b[0;36mbackward\u001b[0;34m(tensors, grad_tensors, retain_graph, create_graph, grad_variables)\u001b[0m\n\u001b[1;32m     98\u001b[0m     Variable._execution_engine.run_backward(\n\u001b[1;32m     99\u001b[0m         \u001b[0mtensors\u001b[0m\u001b[0;34m,\u001b[0m \u001b[0mgrad_tensors\u001b[0m\u001b[0;34m,\u001b[0m \u001b[0mretain_graph\u001b[0m\u001b[0;34m,\u001b[0m \u001b[0mcreate_graph\u001b[0m\u001b[0;34m,\u001b[0m\u001b[0;34m\u001b[0m\u001b[0;34m\u001b[0m\u001b[0m\n\u001b[0;32m--> 100\u001b[0;31m         allow_unreachable=True)  # allow_unreachable flag\n\u001b[0m\u001b[1;32m    101\u001b[0m \u001b[0;34m\u001b[0m\u001b[0m\n\u001b[1;32m    102\u001b[0m \u001b[0;34m\u001b[0m\u001b[0m\n",
            "\u001b[0;31mRuntimeError\u001b[0m: 'Tensor' object has no attribute 'detch'"
          ]
        }
      ]
    },
    {
      "cell_type": "code",
      "metadata": {
        "id": "Cj_zcbqwLUZK",
        "colab_type": "code",
        "outputId": "5853c13b-0d30-4d89-c46f-a1e1e43e04d6",
        "colab": {
          "base_uri": "https://localhost:8080/",
          "height": 35
        }
      },
      "source": [
        "GRAD[1].mean()"
      ],
      "execution_count": 0,
      "outputs": [
        {
          "output_type": "execute_result",
          "data": {
            "text/plain": [
              "tensor(-0.0655, device='cuda:0')"
            ]
          },
          "metadata": {
            "tags": []
          },
          "execution_count": 25
        }
      ]
    },
    {
      "cell_type": "code",
      "metadata": {
        "id": "9UMBBG6a1Rvw",
        "colab_type": "code",
        "outputId": "f348034c-7dd3-4f5e-9222-50372c6a6d97",
        "colab": {
          "base_uri": "https://localhost:8080/",
          "height": 146
        }
      },
      "source": [
        "gr"
      ],
      "execution_count": 0,
      "outputs": [
        {
          "output_type": "execute_result",
          "data": {
            "text/plain": [
              "tensor([[8.2069, 8.2069, 8.2069, 8.2069, 8.2069, 8.2069, 8.2069, 8.2069, 8.2069,\n",
              "         8.2069, 8.2069, 8.2069, 8.2069, 8.2069, 8.2069, 8.2069, 8.2069, 8.2069,\n",
              "         8.2069, 8.2069, 1.0000, 1.0000, 1.0000, 1.0000, 1.0000, 1.0000, 1.0000,\n",
              "         1.0000, 1.0000, 1.0000, 5.0202, 5.0202, 5.0202, 5.0202, 5.0202, 5.0202,\n",
              "         5.0202, 5.0202, 5.0202, 5.0202, 5.0202, 5.0202, 5.0202, 5.0202, 5.0202,\n",
              "         5.0202, 5.0202, 5.0202, 5.0202, 5.0202, 1.0000, 1.0000, 1.0000, 1.0000,\n",
              "         1.0000, 1.0000, 1.0000, 1.0000, 1.0000, 1.0000]], device='cuda:0')"
            ]
          },
          "metadata": {
            "tags": []
          },
          "execution_count": 44
        }
      ]
    },
    {
      "cell_type": "code",
      "metadata": {
        "id": "0v0g2cDJIIrU",
        "colab_type": "code",
        "colab": {}
      },
      "source": [
        "outputs[1][0] "
      ],
      "execution_count": 0,
      "outputs": []
    },
    {
      "cell_type": "code",
      "metadata": {
        "id": "b_Y-MhTNEH4s",
        "colab_type": "code",
        "outputId": "bebba71a-6eef-45aa-8272-e913af0a55af",
        "colab": {
          "base_uri": "https://localhost:8080/",
          "height": 1000
        }
      },
      "source": [
        "for p in model.parameters():\n",
        "  print(p.grad)"
      ],
      "execution_count": 0,
      "outputs": [
        {
          "output_type": "stream",
          "text": [
            "tensor([[ 0.0000,  0.0586,  0.0000,  0.0000,  0.0000,  0.0000,  0.0000,  0.0000,\n",
            "          0.0000,  0.0000],\n",
            "        [ 0.0000,  0.0000,  0.0000,  0.0000,  0.0000,  0.0000,  0.0000,  0.0000,\n",
            "          0.0000,  0.0000],\n",
            "        [ 0.0000,  0.0486,  0.0000,  0.0000,  0.0000,  0.0000,  0.0000,  0.0000,\n",
            "          0.0000,  0.0000],\n",
            "        [ 0.0000,  0.0382,  0.0000,  0.0000,  0.0000,  0.0000,  0.0000,  0.0000,\n",
            "          0.0000,  0.0000],\n",
            "        [ 0.0000,  0.0286,  0.0000,  0.0000,  0.0000,  0.0000,  0.0000,  0.0000,\n",
            "          0.0000,  0.0000],\n",
            "        [ 0.0000, -0.0336,  0.0000,  0.0000,  0.0000,  0.0000,  0.0000,  0.0000,\n",
            "          0.0000,  0.0000],\n",
            "        [ 0.0000, -0.0016,  0.0000,  0.0000,  0.0000,  0.0000,  0.0000,  0.0000,\n",
            "          0.0000,  0.0000],\n",
            "        [ 0.0000,  0.0197,  0.0000,  0.0000,  0.0000,  0.0000,  0.0000,  0.0000,\n",
            "          0.0000,  0.0000],\n",
            "        [ 0.0000, -0.0752,  0.0000,  0.0000,  0.0000,  0.0000,  0.0000,  0.0000,\n",
            "          0.0000,  0.0000],\n",
            "        [ 0.0000,  0.0541,  0.0000,  0.0000,  0.0000,  0.0000,  0.0000,  0.0000,\n",
            "          0.0000,  0.0000],\n",
            "        [ 0.0000,  0.0000,  0.0000,  0.0000,  0.0000,  0.0000,  0.0000,  0.0000,\n",
            "          0.0000,  0.0000],\n",
            "        [ 0.0000,  0.0000,  0.0000,  0.0000,  0.0000,  0.0000,  0.0000,  0.0000,\n",
            "          0.0000,  0.0000],\n",
            "        [ 0.0000,  0.0011,  0.0000,  0.0000,  0.0000,  0.0000,  0.0000,  0.0000,\n",
            "          0.0000,  0.0000],\n",
            "        [ 0.0000,  0.0000,  0.0000,  0.0000,  0.0000,  0.0000,  0.0000,  0.0000,\n",
            "          0.0000,  0.0000],\n",
            "        [ 0.0000,  0.0000,  0.0000,  0.0000,  0.0000,  0.0000,  0.0000,  0.0000,\n",
            "          0.0000,  0.0000],\n",
            "        [ 0.0000, -0.0090,  0.0000,  0.0000,  0.0000,  0.0000,  0.0000,  0.0000,\n",
            "          0.0000,  0.0000],\n",
            "        [ 0.0000,  0.0479,  0.0000,  0.0000,  0.0000,  0.0000,  0.0000,  0.0000,\n",
            "          0.0000,  0.0000],\n",
            "        [ 0.0000,  0.0621,  0.0000,  0.0000,  0.0000,  0.0000,  0.0000,  0.0000,\n",
            "          0.0000,  0.0000],\n",
            "        [ 0.0000,  0.0391,  0.0000,  0.0000,  0.0000,  0.0000,  0.0000,  0.0000,\n",
            "          0.0000,  0.0000],\n",
            "        [ 0.0000, -0.0541,  0.0000,  0.0000,  0.0000,  0.0000,  0.0000,  0.0000,\n",
            "          0.0000,  0.0000],\n",
            "        [ 0.0000, -0.0597,  0.0000,  0.0000,  0.0000,  0.0000,  0.0000,  0.0000,\n",
            "          0.0000,  0.0000],\n",
            "        [ 0.0000,  0.0000,  0.0000,  0.0000,  0.0000,  0.0000,  0.0000,  0.0000,\n",
            "          0.0000,  0.0000],\n",
            "        [ 0.0000,  0.0373,  0.0000,  0.0000,  0.0000,  0.0000,  0.0000,  0.0000,\n",
            "          0.0000,  0.0000],\n",
            "        [ 0.0000,  0.0000,  0.0000,  0.0000,  0.0000,  0.0000,  0.0000,  0.0000,\n",
            "          0.0000,  0.0000],\n",
            "        [ 0.0000, -0.0243,  0.0000,  0.0000,  0.0000,  0.0000,  0.0000,  0.0000,\n",
            "          0.0000,  0.0000],\n",
            "        [ 0.0000,  0.0450,  0.0000,  0.0000,  0.0000,  0.0000,  0.0000,  0.0000,\n",
            "          0.0000,  0.0000],\n",
            "        [ 0.0000,  0.0132,  0.0000,  0.0000,  0.0000,  0.0000,  0.0000,  0.0000,\n",
            "          0.0000,  0.0000],\n",
            "        [ 0.0000,  0.0000,  0.0000,  0.0000,  0.0000,  0.0000,  0.0000,  0.0000,\n",
            "          0.0000,  0.0000],\n",
            "        [ 0.0000,  0.0000,  0.0000,  0.0000,  0.0000,  0.0000,  0.0000,  0.0000,\n",
            "          0.0000,  0.0000],\n",
            "        [ 0.0000,  0.0175,  0.0000,  0.0000,  0.0000,  0.0000,  0.0000,  0.0000,\n",
            "          0.0000,  0.0000]], device='cuda:0')\n",
            "tensor([ 0.0586,  0.0000,  0.0486,  0.0382,  0.0286, -0.0336, -0.0016,  0.0197,\n",
            "        -0.0752,  0.0541,  0.0000,  0.0000,  0.0011,  0.0000,  0.0000, -0.0090,\n",
            "         0.0479,  0.0621,  0.0391, -0.0541, -0.0597,  0.0000,  0.0373,  0.0000,\n",
            "        -0.0243,  0.0450,  0.0132,  0.0000,  0.0000,  0.0175], device='cuda:0')\n",
            "tensor([[ 0.0000,  0.0000,  0.0000,  ...,  0.0000,  0.0000,  0.0000],\n",
            "        [ 0.0287,  0.0000,  0.0134,  ...,  0.0000,  0.0000,  0.0095],\n",
            "        [ 0.0000,  0.0000,  0.0000,  ...,  0.0000,  0.0000,  0.0000],\n",
            "        ...,\n",
            "        [ 0.0000,  0.0000,  0.0000,  ...,  0.0000,  0.0000,  0.0000],\n",
            "        [ 0.0000,  0.0000,  0.0000,  ...,  0.0000,  0.0000,  0.0000],\n",
            "        [-0.0611,  0.0000, -0.0284,  ...,  0.0000,  0.0000, -0.0203]],\n",
            "       device='cuda:0')\n",
            "tensor([ 0.0000,  0.0507,  0.0000,  0.0000,  0.0000,  0.0000,  0.0390,  0.0000,\n",
            "         0.0000, -0.0890,  0.0717,  0.0000,  0.0000,  0.0000,  0.0000,  0.0000,\n",
            "         0.0000,  0.0340,  0.0980, -0.0194,  0.0000,  0.0402, -0.0443, -0.1221,\n",
            "         0.0000,  0.0161,  0.0000, -0.1366,  0.0000,  0.0000,  0.0000,  0.0186,\n",
            "        -0.0004,  0.0420,  0.2221,  0.0000,  0.0294,  0.0000,  0.0000, -0.0709,\n",
            "         0.0000,  0.0000,  0.0000,  0.0000,  0.0000,  0.0000,  0.0000,  0.0000,\n",
            "         0.0000, -0.1078], device='cuda:0')\n",
            "tensor([[0.0000, 0.0000, 0.0000,  ..., 0.0000, 0.0000, 0.0000],\n",
            "        [0.0000, 0.0000, 0.0000,  ..., 0.0000, 0.0000, 0.0000],\n",
            "        [0.0000, 0.0122, 0.0000,  ..., 0.0000, 0.0000, 0.0301],\n",
            "        ...,\n",
            "        [0.0000, 0.0086, 0.0000,  ..., 0.0000, 0.0000, 0.0213],\n",
            "        [0.0000, 0.0000, 0.0000,  ..., 0.0000, 0.0000, 0.0000],\n",
            "        [0.0000, 0.0000, 0.0000,  ..., 0.0000, 0.0000, 0.0000]],\n",
            "       device='cuda:0')\n",
            "tensor([0.0000, 0.0000, 0.3638, 0.0382, 0.0000, 0.0678, 0.0000, 0.0000, 0.0000,\n",
            "        0.3445, 0.0000, 0.0000, 0.4040, 0.2579, 0.0000, 0.1596, 0.0153, 0.2859,\n",
            "        0.0000, 0.0000, 0.2244, 0.0000, 0.0000, 0.0000, 0.0000, 0.2740, 0.2720,\n",
            "        0.0205, 0.0134, 0.0000, 0.0000, 0.2288, 0.2521, 0.0000, 0.0780, 0.1541,\n",
            "        0.0000, 0.1586, 0.0000, 0.0000, 0.0000, 0.0000, 0.0000, 0.0000, 0.0000,\n",
            "        0.0000, 0.0000, 0.0000, 0.2511, 0.2933, 0.0398, 0.0000, 0.2540, 0.1174,\n",
            "        0.2732, 0.0000, 0.0000, 0.2571, 0.0000, 0.0000], device='cuda:0')\n"
          ],
          "name": "stdout"
        }
      ]
    },
    {
      "cell_type": "code",
      "metadata": {
        "id": "hqrhK-PF0KmH",
        "colab_type": "code",
        "outputId": "f43506d6-0161-4790-83e9-06b4ed2208ce",
        "colab": {
          "base_uri": "https://localhost:8080/",
          "height": 34
        }
      },
      "source": [
        "outputs[1].detach().cpu().numpy().shape"
      ],
      "execution_count": 0,
      "outputs": [
        {
          "output_type": "execute_result",
          "data": {
            "text/plain": [
              "(1, 28, 28)"
            ]
          },
          "metadata": {
            "tags": []
          },
          "execution_count": 57
        }
      ]
    },
    {
      "cell_type": "code",
      "metadata": {
        "id": "t7fDBqqF_lGI",
        "colab_type": "code",
        "outputId": "cef5065d-6c73-44e5-fe38-ebf1caf9dec0",
        "colab": {
          "base_uri": "https://localhost:8080/",
          "height": 34
        }
      },
      "source": [
        "images.shape"
      ],
      "execution_count": 0,
      "outputs": [
        {
          "output_type": "execute_result",
          "data": {
            "text/plain": [
              "torch.Size([1, 1, 28, 28])"
            ]
          },
          "metadata": {
            "tags": []
          },
          "execution_count": 55
        }
      ]
    },
    {
      "cell_type": "code",
      "metadata": {
        "id": "nKg8ffH7Zznp",
        "colab_type": "code",
        "outputId": "2812d47b-d3f4-446d-b725-3ff7a214c6c0",
        "colab": {
          "base_uri": "https://localhost:8080/",
          "height": 232
        }
      },
      "source": [
        "NetEpochs = 30000\n",
        "Dataset = [x for x in range(10)]\n",
        "i = 0\n",
        "running_loss=0.0\n",
        "for epoch in range(NetEpochs):\n",
        "    loss1 = None\n",
        "    for data in Dataset:\n",
        "      optimizer.zero_grad()\n",
        "\n",
        "      i+=1\n",
        "\n",
        "      p = enc.transform(np.array([data]).reshape(-1,1)).toarray()\n",
        "\n",
        "      tdata = torch.Tensor(p).float().cuda()\n",
        "      X = model(tdata,sig=0)\n",
        "\n",
        "      loss3 = criterion(X_CNN2,tdata)\n",
        "      \n",
        "      # loss = loss3\n",
        "      if(loss1==None):\n",
        "        loss1 = loss3\n",
        "      else:\n",
        "        loss1+=loss3\n",
        "      running_loss+=loss.item()\n",
        "      if (i+1)%3 == 0:\n",
        "          loss1.backward()\n",
        "          \n",
        "          optimizer.step()\n",
        "          loss1=None\n",
        "      if (i+1) % 500 == 0:\n",
        "          \n",
        "          show(X*255)\n",
        "          # show(X_2)\n",
        "          print(data,np.argmax(X_CNN2.detach().cpu().numpy()))\n",
        "          print ('Epoch [%d/%d], Iter [%d/%d] Loss: %.4f' %(epoch+1, NetEpochs, i+1, len(Dataset)//batch_size, running_loss/500))\n",
        "          running_loss=0.0"
      ],
      "execution_count": 0,
      "outputs": [
        {
          "output_type": "error",
          "ename": "NameError",
          "evalue": "ignored",
          "traceback": [
            "\u001b[0;31m---------------------------------------------------------------------------\u001b[0m",
            "\u001b[0;31mNameError\u001b[0m                                 Traceback (most recent call last)",
            "\u001b[0;32m<ipython-input-72-3eea4b6027a0>\u001b[0m in \u001b[0;36m<module>\u001b[0;34m()\u001b[0m\n\u001b[1;32m     15\u001b[0m       \u001b[0mX\u001b[0m \u001b[0;34m=\u001b[0m \u001b[0mmodel\u001b[0m\u001b[0;34m(\u001b[0m\u001b[0mtdata\u001b[0m\u001b[0;34m,\u001b[0m\u001b[0msig\u001b[0m\u001b[0;34m=\u001b[0m\u001b[0;36m0\u001b[0m\u001b[0;34m)\u001b[0m\u001b[0;34m\u001b[0m\u001b[0;34m\u001b[0m\u001b[0m\n\u001b[1;32m     16\u001b[0m \u001b[0;34m\u001b[0m\u001b[0m\n\u001b[0;32m---> 17\u001b[0;31m       \u001b[0mloss3\u001b[0m \u001b[0;34m=\u001b[0m \u001b[0mcriterion\u001b[0m\u001b[0;34m(\u001b[0m\u001b[0mX_CNN2\u001b[0m\u001b[0;34m,\u001b[0m\u001b[0mtdata\u001b[0m\u001b[0;34m)\u001b[0m\u001b[0;34m\u001b[0m\u001b[0;34m\u001b[0m\u001b[0m\n\u001b[0m\u001b[1;32m     18\u001b[0m \u001b[0;34m\u001b[0m\u001b[0m\n\u001b[1;32m     19\u001b[0m       \u001b[0;31m# loss = loss3\u001b[0m\u001b[0;34m\u001b[0m\u001b[0;34m\u001b[0m\u001b[0;34m\u001b[0m\u001b[0m\n",
            "\u001b[0;31mNameError\u001b[0m: name 'X_CNN2' is not defined"
          ]
        }
      ]
    },
    {
      "cell_type": "markdown",
      "metadata": {
        "id": "7CS9m1H_NhdX",
        "colab_type": "text"
      },
      "source": [
        "### K-Means on GRAD"
      ]
    },
    {
      "cell_type": "code",
      "metadata": {
        "id": "GW1DLyjnP-Q8",
        "colab_type": "code",
        "colab": {}
      },
      "source": [
        "from sklearn.cluster import KMeans"
      ],
      "execution_count": 0,
      "outputs": []
    },
    {
      "cell_type": "code",
      "metadata": {
        "id": "lps9k2kEQBK4",
        "colab_type": "code",
        "colab": {}
      },
      "source": [
        "cluster = KMeans(n_clusters=10)"
      ],
      "execution_count": 0,
      "outputs": []
    },
    {
      "cell_type": "code",
      "metadata": {
        "id": "cuaN_U4JOjpo",
        "colab_type": "code",
        "outputId": "a1118679-d0b3-47bf-de8a-ffde266e4963",
        "colab": {
          "base_uri": "https://localhost:8080/",
          "height": 68
        }
      },
      "source": [
        "cls = GRAD[1].cpu().detach().numpy()\n",
        "cluster.fit(cls[0])"
      ],
      "execution_count": 0,
      "outputs": [
        {
          "output_type": "execute_result",
          "data": {
            "text/plain": [
              "KMeans(algorithm='auto', copy_x=True, init='k-means++', max_iter=300,\n",
              "       n_clusters=10, n_init=10, n_jobs=None, precompute_distances='auto',\n",
              "       random_state=None, tol=0.0001, verbose=0)"
            ]
          },
          "metadata": {
            "tags": []
          },
          "execution_count": 33
        }
      ]
    },
    {
      "cell_type": "code",
      "metadata": {
        "id": "MfSj1X7rQaEQ",
        "colab_type": "code",
        "outputId": "162e37e0-53cf-46d0-a8e2-3572b29abf6e",
        "colab": {
          "base_uri": "https://localhost:8080/",
          "height": 34
        }
      },
      "source": [
        "cls.shape"
      ],
      "execution_count": 0,
      "outputs": [
        {
          "output_type": "execute_result",
          "data": {
            "text/plain": [
              "(1, 28, 28)"
            ]
          },
          "metadata": {
            "tags": []
          },
          "execution_count": 32
        }
      ]
    },
    {
      "cell_type": "code",
      "metadata": {
        "id": "VStT4tUcQ_o7",
        "colab_type": "code",
        "colab": {}
      },
      "source": [
        "labels = cluster.predict(cls[0])"
      ],
      "execution_count": 0,
      "outputs": []
    },
    {
      "cell_type": "code",
      "metadata": {
        "id": "2bgjrcm4Q_cb",
        "colab_type": "code",
        "colab": {}
      },
      "source": [
        "centroids  = cluster.cluster_centers_"
      ],
      "execution_count": 0,
      "outputs": []
    },
    {
      "cell_type": "code",
      "metadata": {
        "id": "Yz04A0ffSTqQ",
        "colab_type": "code",
        "outputId": "c7767f83-c7b7-4112-de45-134738b22170",
        "colab": {
          "base_uri": "https://localhost:8080/",
          "height": 34
        }
      },
      "source": [
        "centroids.shape"
      ],
      "execution_count": 0,
      "outputs": [
        {
          "output_type": "execute_result",
          "data": {
            "text/plain": [
              "(10, 28)"
            ]
          },
          "metadata": {
            "tags": []
          },
          "execution_count": 46
        }
      ]
    },
    {
      "cell_type": "code",
      "metadata": {
        "id": "8T9Yq2hMRmYy",
        "colab_type": "code",
        "outputId": "65dc7b17-9009-4b80-c8c6-8c2a6f19fb72",
        "colab": {
          "base_uri": "https://localhost:8080/",
          "height": 34
        }
      },
      "source": [
        "centroids[labels].shape"
      ],
      "execution_count": 0,
      "outputs": [
        {
          "output_type": "execute_result",
          "data": {
            "text/plain": [
              "(28, 28)"
            ]
          },
          "metadata": {
            "tags": []
          },
          "execution_count": 43
        }
      ]
    },
    {
      "cell_type": "code",
      "metadata": {
        "id": "UCJbll2ETfXS",
        "colab_type": "code",
        "colab": {}
      },
      "source": [
        "X = np.array([[5,3],\n",
        "     [10,15],\n",
        "     [15,12],\n",
        "     [24,10],\n",
        "     [30,45],\n",
        "     [85,70],\n",
        "     [71,80],\n",
        "     [60,78],\n",
        "     [55,52],\n",
        "     [80,91],])"
      ],
      "execution_count": 0,
      "outputs": []
    },
    {
      "cell_type": "code",
      "metadata": {
        "id": "uZr8P5wJThjm",
        "colab_type": "code",
        "colab": {}
      },
      "source": [
        "def k_mean_distance(data, cx, cy, i_centroid, cluster_labels):\n",
        "  distances = [np.sqrt((x-cx)**2+(y-cy)**2) for (x, y) in data[cluster_labels == i_centroid]]\n",
        "  return distances"
      ],
      "execution_count": 0,
      "outputs": []
    },
    {
      "cell_type": "code",
      "metadata": {
        "id": "rS1d8U9OYgBX",
        "colab_type": "code",
        "colab": {}
      },
      "source": [
        "def getList(data2D):\n",
        "  clusters= cluster.fit_predict(data2D)\n",
        "  centroids = cluster.cluster_centers_\n",
        "\n",
        "  distances = []\n",
        "  for i, (cx, cy) in enumerate(centroids):\n",
        "      mean_distance = k_mean_distance(data2D, cx, cy, i, clusters)\n",
        "      distances.append(mean_distance)"
      ],
      "execution_count": 0,
      "outputs": []
    },
    {
      "cell_type": "code",
      "metadata": {
        "id": "utgD-xpqazFA",
        "colab_type": "code",
        "outputId": "16345c48-8598-46c9-a7d4-87a8ecf6e3ef",
        "colab": {
          "base_uri": "https://localhost:8080/",
          "height": 266
        }
      },
      "source": [
        "getList(X)"
      ],
      "execution_count": 0,
      "outputs": [
        {
          "output_type": "error",
          "ename": "NameError",
          "evalue": "ignored",
          "traceback": [
            "\u001b[0;31m---------------------------------------------------------------------------\u001b[0m",
            "\u001b[0;31mNameError\u001b[0m                                 Traceback (most recent call last)",
            "\u001b[0;32m<ipython-input-52-e74b9b122811>\u001b[0m in \u001b[0;36m<module>\u001b[0;34m()\u001b[0m\n\u001b[0;32m----> 1\u001b[0;31m \u001b[0mgetList\u001b[0m\u001b[0;34m(\u001b[0m\u001b[0mX\u001b[0m\u001b[0;34m)\u001b[0m\u001b[0;34m\u001b[0m\u001b[0;34m\u001b[0m\u001b[0m\n\u001b[0m",
            "\u001b[0;32m<ipython-input-51-bae2397643a1>\u001b[0m in \u001b[0;36mgetList\u001b[0;34m(data2D)\u001b[0m\n\u001b[1;32m      5\u001b[0m   \u001b[0mdistances\u001b[0m \u001b[0;34m=\u001b[0m \u001b[0;34m[\u001b[0m\u001b[0;34m]\u001b[0m\u001b[0;34m\u001b[0m\u001b[0;34m\u001b[0m\u001b[0m\n\u001b[1;32m      6\u001b[0m   \u001b[0;32mfor\u001b[0m \u001b[0mi\u001b[0m\u001b[0;34m,\u001b[0m \u001b[0;34m(\u001b[0m\u001b[0mcx\u001b[0m\u001b[0;34m,\u001b[0m \u001b[0mcy\u001b[0m\u001b[0;34m)\u001b[0m \u001b[0;32min\u001b[0m \u001b[0menumerate\u001b[0m\u001b[0;34m(\u001b[0m\u001b[0mcentroids\u001b[0m\u001b[0;34m)\u001b[0m\u001b[0;34m:\u001b[0m\u001b[0;34m\u001b[0m\u001b[0;34m\u001b[0m\u001b[0m\n\u001b[0;32m----> 7\u001b[0;31m       \u001b[0mmean_distance\u001b[0m \u001b[0;34m=\u001b[0m \u001b[0mk_mean_distance\u001b[0m\u001b[0;34m(\u001b[0m\u001b[0mdata2D\u001b[0m\u001b[0;34m,\u001b[0m \u001b[0mcx\u001b[0m\u001b[0;34m,\u001b[0m \u001b[0mcy\u001b[0m\u001b[0;34m,\u001b[0m \u001b[0mi\u001b[0m\u001b[0;34m,\u001b[0m \u001b[0mclusters\u001b[0m\u001b[0;34m)\u001b[0m\u001b[0;34m\u001b[0m\u001b[0;34m\u001b[0m\u001b[0m\n\u001b[0m\u001b[1;32m      8\u001b[0m       \u001b[0mdistances\u001b[0m\u001b[0;34m.\u001b[0m\u001b[0mappend\u001b[0m\u001b[0;34m(\u001b[0m\u001b[0mmean_distance\u001b[0m\u001b[0;34m)\u001b[0m\u001b[0;34m\u001b[0m\u001b[0;34m\u001b[0m\u001b[0m\n",
            "\u001b[0;31mNameError\u001b[0m: name 'k_mean_distance' is not defined"
          ]
        }
      ]
    },
    {
      "cell_type": "markdown",
      "metadata": {
        "id": "ASLphRakQqYO",
        "colab_type": "text"
      },
      "source": [
        "### SUBMERGE on Convolution blocks"
      ]
    },
    {
      "cell_type": "code",
      "metadata": {
        "id": "Ory88wYev-xY",
        "colab_type": "code",
        "colab": {}
      },
      "source": [
        "total_filters = 5\n",
        "conv1 = torch.nn.Conv2d(1,total_filters, 5)\n",
        "filters = conv1(img\n",
        "for filter_no in range(total_filters):\n",
        "  # cv2_imshow(filters.detach().numpy()[0][filter_no]*255)\n",
        "  # cv2_imshow(merge(getBinaryImage((merge(getBinaryImage(filters[0][filter_no].detach().numpy()),img2))),img2))\n",
        "  img1 = getBinaryImage(filters[0][filter_no].detach().numpy())\n",
        "\n",
        "  img2 = np.zeros((24,24))\n",
        "  fading(img2,(10,10))\n",
        "\n",
        "  cv2_imshow(merge(img1,img2))"
      ],
      "execution_count": 0,
      "outputs": []
    },
    {
      "cell_type": "code",
      "metadata": {
        "id": "8k7Pd29GMG5j",
        "colab_type": "code",
        "outputId": "f658d535-30d4-4bd7-be83-3ee9aa0238cd",
        "colab": {
          "base_uri": "https://localhost:8080/",
          "height": 301
        }
      },
      "source": [
        "img = torch.rand((1,1,28,28))\n",
        "  \n",
        "img2 = np.zeros((24,24))\n",
        "fading(img2,(20,20))\n",
        "\n",
        "cv2_imshow(merge(img1,img2))"
      ],
      "execution_count": 0,
      "outputs": [
        {
          "output_type": "error",
          "ename": "ValueError",
          "evalue": "ignored",
          "traceback": [
            "\u001b[0;31m---------------------------------------------------------------------------\u001b[0m",
            "\u001b[0;31mValueError\u001b[0m                                Traceback (most recent call last)",
            "\u001b[0;32m<ipython-input-16-2cfcdd04095c>\u001b[0m in \u001b[0;36m<module>\u001b[0;34m()\u001b[0m\n\u001b[1;32m      4\u001b[0m \u001b[0mfading\u001b[0m\u001b[0;34m(\u001b[0m\u001b[0mimg2\u001b[0m\u001b[0;34m,\u001b[0m\u001b[0;34m(\u001b[0m\u001b[0;36m20\u001b[0m\u001b[0;34m,\u001b[0m\u001b[0;36m20\u001b[0m\u001b[0;34m)\u001b[0m\u001b[0;34m)\u001b[0m\u001b[0;34m\u001b[0m\u001b[0;34m\u001b[0m\u001b[0m\n\u001b[1;32m      5\u001b[0m \u001b[0;34m\u001b[0m\u001b[0m\n\u001b[0;32m----> 6\u001b[0;31m \u001b[0mcv2_imshow\u001b[0m\u001b[0;34m(\u001b[0m\u001b[0mmerge\u001b[0m\u001b[0;34m(\u001b[0m\u001b[0mimg1\u001b[0m\u001b[0;34m,\u001b[0m\u001b[0mimg2\u001b[0m\u001b[0;34m)\u001b[0m\u001b[0;34m)\u001b[0m\u001b[0;34m\u001b[0m\u001b[0;34m\u001b[0m\u001b[0m\n\u001b[0m",
            "\u001b[0;32m<ipython-input-4-43b7ec412871>\u001b[0m in \u001b[0;36mmerge\u001b[0;34m(img1, img2)\u001b[0m\n\u001b[1;32m      1\u001b[0m \u001b[0;32mdef\u001b[0m \u001b[0mmerge\u001b[0m\u001b[0;34m(\u001b[0m\u001b[0mimg1\u001b[0m\u001b[0;34m,\u001b[0m\u001b[0mimg2\u001b[0m\u001b[0;34m)\u001b[0m\u001b[0;34m:\u001b[0m\u001b[0;34m\u001b[0m\u001b[0;34m\u001b[0m\u001b[0m\n\u001b[0;32m----> 2\u001b[0;31m   \u001b[0mret\u001b[0m \u001b[0;34m=\u001b[0m \u001b[0mnp\u001b[0m\u001b[0;34m.\u001b[0m\u001b[0mmultiply\u001b[0m\u001b[0;34m(\u001b[0m\u001b[0mimg1\u001b[0m\u001b[0;34m,\u001b[0m\u001b[0mimg2\u001b[0m\u001b[0;34m)\u001b[0m\u001b[0;34m\u001b[0m\u001b[0;34m\u001b[0m\u001b[0m\n\u001b[0m\u001b[1;32m      3\u001b[0m   \u001b[0;32mreturn\u001b[0m \u001b[0mret\u001b[0m\u001b[0;34m\u001b[0m\u001b[0;34m\u001b[0m\u001b[0m\n",
            "\u001b[0;31mValueError\u001b[0m: operands could not be broadcast together with shapes (20,20) (24,24) "
          ]
        }
      ]
    },
    {
      "cell_type": "code",
      "metadata": {
        "id": "qtIPvyXlk_0N",
        "colab_type": "code",
        "colab": {}
      },
      "source": [
        "filters.detach().numpy()[0][0]"
      ],
      "execution_count": 0,
      "outputs": []
    },
    {
      "cell_type": "code",
      "metadata": {
        "id": "FH3uWMM7laDO",
        "colab_type": "code",
        "colab": {}
      },
      "source": [
        ""
      ],
      "execution_count": 0,
      "outputs": []
    },
    {
      "cell_type": "code",
      "metadata": {
        "id": "UEpIPGholaj4",
        "colab_type": "code",
        "colab": {}
      },
      "source": [
        "filters.detach().numpy()[0][29]*img"
      ],
      "execution_count": 0,
      "outputs": []
    },
    {
      "cell_type": "code",
      "metadata": {
        "id": "3EvXh4CMukUr",
        "colab_type": "code",
        "colab": {}
      },
      "source": [
        "num_epochs = 5\n",
        "batch_size = 100\n",
        "learning_rate = 0.001\n",
        "noises = int(42000/6)\n",
        "\n",
        "train_data = pd.read_csv('train.csv')\n",
        "train_data.head()\n",
        "\n",
        "# test_data = pd.read_csv('./data/test.csv')\n",
        "# test_data.head()\n",
        "\n",
        "class CustomedDataSet(torch.utils.data.Dataset):\n",
        "    def __init__(self, train=True):\n",
        "        self.train = train\n",
        "        if self.train :\n",
        "            dataset = pd.read_csv('train.csv')\n",
        "            # print(dataset)\n",
        "            trainY = dataset.iloc[:,0].values\n",
        "            trainX = dataset.iloc[:,1:].values.reshape(42000 ,1,28,28)\n",
        "            \n",
        "            print(trainY)\n",
        "            \n",
        "            \n",
        "            # print(np.argmax(trainY))\n",
        "            \n",
        "            self.datalist = trainX\n",
        "            self.labellist = trainY\n",
        "        else:\n",
        "            testX = pd.read_csv('./data/test.csv')\n",
        "            testX = testX.as_matrix().reshape(testX.shape[0], 1, 28, 28)\n",
        "            self.datalist = testX\n",
        "            \n",
        "    def __getitem__(self, index):\n",
        "        if self.train:\n",
        "            return torch.Tensor(self.datalist[index].astype(float)),self.labellist[index]\n",
        "        else:\n",
        "            return torch.Tensor(self.datalist[index].astype(float))\n",
        "    \n",
        "    def __len__(self):\n",
        "        return self.datalist.shape[0]\n",
        "\n",
        "train_dataset = CustomedDataSet()\n",
        "\n",
        "train_loader = torch.utils.data.DataLoader(dataset=train_dataset,\n",
        "                                           batch_size=batch_size,\n",
        "                                           shuffle=True,\n",
        "                                           num_workers=2)"
      ],
      "execution_count": 0,
      "outputs": []
    },
    {
      "cell_type": "code",
      "metadata": {
        "id": "3_NFBDwcul1g",
        "colab_type": "code",
        "colab": {}
      },
      "source": [
        "class Net(nn.Module):\n",
        "    def __init__(self):\n",
        "        super(Net, self).__init__()\n",
        "        self.fc1 = nn.Linear(10,100)\n",
        "        self.fc2 = nn.Linear(100,200) \n",
        "        self.fc3 = nn.Linear(200,300) \n",
        "        self.fc4 = nn.Linear(300,500) \n",
        "        self.fc5 = nn.Linear(500,28*28)\n",
        "        self.conv1 = torch.nn.Conv2d(1,30, 5)\n",
        "        self.conv4 = torch.nn.ConvTranspose2d(30,1,5)\n",
        "        \n",
        "        self.soft = nn.Softmax2d()\n",
        "        #self.fc5 = nn.Linear(28*28,)\n",
        "    def forward(self, x, sig = 0):\n",
        "        x = nn.functional.leaky_relu(self.fc1(x))\n",
        "        # x = self.drop(x)\n",
        "        x = nn.functional.leaky_relu(self.fc2(x))\n",
        "        # x = self.drop(x)\n",
        "        x = nn.functional.leaky_relu(self.fc3(x))\n",
        "        # x = self.drop(x)\n",
        "        x = nn.functional.leaky_relu(self.fc4(x))\n",
        "        # x = self.drop(x)\n",
        "        x = nn.functional.relu(self.fc5(x))\n",
        "        \n",
        "        \n",
        "        x = torch.reshape(x,(1,1,28,28))\n",
        "        \n",
        "        x = nn.functional.relu(self.conv1(x))\n",
        "        x = nn.functional.relu(self.conv4(x))\n",
        "\n",
        "        if(sig==1):\n",
        "          x = nn.functional.sigmoid(x)\n",
        "        if(sig==2):\n",
        "          x = self.soft(x)\n",
        "        #x = self.fc5(x)\n",
        "        return x"
      ],
      "execution_count": 0,
      "outputs": []
    },
    {
      "cell_type": "markdown",
      "metadata": {
        "id": "717-x-Le_cgy",
        "colab_type": "text"
      },
      "source": [
        "# Test"
      ]
    },
    {
      "cell_type": "code",
      "metadata": {
        "id": "9mkaCApfAXBl",
        "colab_type": "code",
        "colab": {}
      },
      "source": [
        "!mv 38054606355_26429c884f_b.jpg test.jpg"
      ],
      "execution_count": 0,
      "outputs": []
    },
    {
      "cell_type": "code",
      "metadata": {
        "id": "aW4IAYL9_e6L",
        "colab_type": "code",
        "colab": {}
      },
      "source": [
        "!wget https://live.staticflickr.com/4561/38054606355_26429c884f_b.jpg -o \"test.jpg\""
      ],
      "execution_count": 0,
      "outputs": []
    },
    {
      "cell_type": "code",
      "metadata": {
        "id": "EHwWbRA2_sne",
        "colab_type": "code",
        "colab": {}
      },
      "source": [
        "import cv2\n",
        "from google.colab.patches import cv2_imshow"
      ],
      "execution_count": 0,
      "outputs": []
    },
    {
      "cell_type": "code",
      "metadata": {
        "id": "AmSajaqRAEA6",
        "colab_type": "code",
        "colab": {}
      },
      "source": [
        "img = cv2.imread(\"test.jpg\")"
      ],
      "execution_count": 0,
      "outputs": []
    },
    {
      "cell_type": "code",
      "metadata": {
        "id": "1WhwOjsTByRt",
        "colab_type": "code",
        "colab": {}
      },
      "source": [
        "from sklearn.cluster import KMeans"
      ],
      "execution_count": 0,
      "outputs": []
    },
    {
      "cell_type": "code",
      "metadata": {
        "id": "GxrWEPUGCDzI",
        "colab_type": "code",
        "colab": {}
      },
      "source": [
        "import numpy as np\n",
        "import pandas as pd"
      ],
      "execution_count": 0,
      "outputs": []
    },
    {
      "cell_type": "code",
      "metadata": {
        "id": "FCRRlkTZJUDc",
        "colab_type": "code",
        "colab": {}
      },
      "source": [
        "colourImg = Image.open(\"test.jpg\")\n",
        "colourPixels = colourImg.convert(\"RGB\")\n",
        "colourArray = np.array(colourPixels.getdata()).reshape(colourImg.size + (3,))\n",
        "indicesArray = np.moveaxis(np.indices(colourImg.size), 0, 2)\n",
        "\n",
        "allArray = np.dstack((indicesArray, colourArray)).reshape((-1, 5))\n",
        "\n",
        "\n",
        "df = pd.DataFrame(allArray, columns=[\"y\", \"x\", \"red\",\"green\",\"blue\"])"
      ],
      "execution_count": 0,
      "outputs": []
    },
    {
      "cell_type": "code",
      "metadata": {
        "id": "nhjgjcxgQw6t",
        "colab_type": "code",
        "colab": {}
      },
      "source": [
        "colourImg = Image.open(\"test.jpg\")\n",
        "colourPixels = colourImg.convert(\"L\")\n",
        "colourArray = np.array(colourPixels.getdata()).reshape(colourImg.size + (1,))\n",
        "indicesArray = np.moveaxis(np.indices(colourImg.size), 0, 2)\n",
        "\n",
        "allArray = np.dstack((indicesArray, colourArray)).reshape((-1, 3))\n",
        "\n",
        "\n",
        "df = pd.DataFrame(allArray, columns=[\"y\", \"x\", \"weight\"])"
      ],
      "execution_count": 0,
      "outputs": []
    },
    {
      "cell_type": "code",
      "metadata": {
        "id": "NlbKGKD1RA97",
        "colab_type": "code",
        "colab": {}
      },
      "source": [
        "\n",
        "img =cv2.imread(\"test.jpg\")\n",
        "def ImageToData2D(img):\n",
        "  if(len(img.shape)==3):\n",
        "    img = cv2.cvtColor(img, cv2.COLOR_BGR2GRAY)\n",
        "  size = (img.shape[1],img.shape[0])\n",
        "  colourArray = img.reshape(size + (1,))\n",
        "  indicesArray = np.moveaxis(np.indices(size), 0, 2)\n",
        "\n",
        "  allArray = np.dstack((indicesArray, colourArray)).reshape((-1, 3))\n",
        "  return allArray\n"
      ],
      "execution_count": 0,
      "outputs": []
    },
    {
      "cell_type": "code",
      "metadata": {
        "id": "_TzYdZm0064M",
        "colab_type": "code",
        "colab": {}
      },
      "source": [
        "def showData2D(data):\n",
        "  plt.scatter((data[:,1]),np.flip(data[:,0]),c = data[:,2],s =60,cmap = \"gray\",marker=\"s\")"
      ],
      "execution_count": 0,
      "outputs": []
    },
    {
      "cell_type": "code",
      "metadata": {
        "id": "nabhXsbqyrCi",
        "colab_type": "code",
        "colab": {}
      },
      "source": [
        "a = ImageToData2D(s)"
      ],
      "execution_count": 0,
      "outputs": []
    },
    {
      "cell_type": "code",
      "metadata": {
        "id": "emEvE5wbwBE1",
        "colab_type": "code",
        "colab": {}
      },
      "source": [
        "## K-Means\n",
        "criteria = (cv2.TERM_CRITERIA_EPS + cv2.TERM_CRITERIA_MAX_ITER, 10, 1.0)\n",
        "ret,label,center=cv2.kmeans(np.float32(a[:,:2]),10,None,criteria,10,cv2.KMEANS_RANDOM_CENTERS)"
      ],
      "execution_count": 0,
      "outputs": []
    },
    {
      "cell_type": "code",
      "metadata": {
        "id": "VlSwo5OHwo1Z",
        "colab_type": "code",
        "colab": {}
      },
      "source": [
        "threshold  = a[:,2].mean()"
      ],
      "execution_count": 0,
      "outputs": []
    },
    {
      "cell_type": "code",
      "metadata": {
        "id": "YkoJt_InyPoS",
        "colab_type": "code",
        "outputId": "838d3294-12d8-405d-b9fc-616aba54a0ba",
        "colab": {
          "base_uri": "https://localhost:8080/",
          "height": 35
        }
      },
      "source": [
        "a.shape"
      ],
      "execution_count": 0,
      "outputs": [
        {
          "output_type": "execute_result",
          "data": {
            "text/plain": [
              "(900, 3)"
            ]
          },
          "metadata": {
            "tags": []
          },
          "execution_count": 229
        }
      ]
    },
    {
      "cell_type": "code",
      "metadata": {
        "id": "Wm7RaAV0yD1l",
        "colab_type": "code",
        "colab": {}
      },
      "source": [
        "data = a[a[:,2]>(threshold)*1.4]"
      ],
      "execution_count": 0,
      "outputs": []
    },
    {
      "cell_type": "code",
      "metadata": {
        "id": "Bz9xmtRT1DpB",
        "colab_type": "code",
        "outputId": "716ee01a-48f0-4591-96cc-ffc0266bdb22",
        "colab": {
          "base_uri": "https://localhost:8080/",
          "height": 266
        }
      },
      "source": [
        "showData2D(a)"
      ],
      "execution_count": 0,
      "outputs": [
        {
          "output_type": "display_data",
          "data": {
            "image/png": "[encoded data removed]",
            "text/plain": [
              "<Figure size 432x288 with 1 Axes>"
            ]
          },
          "metadata": {
            "tags": [],
            "needs_background": "light"
          }
        }
      ]
    },
    {
      "cell_type": "code",
      "metadata": {
        "id": "g45tIer45Bob",
        "colab_type": "code",
        "colab": {}
      },
      "source": [
        "kmeans = KMeans(n_clusters=10, random_state=1)"
      ],
      "execution_count": 0,
      "outputs": []
    },
    {
      "cell_type": "code",
      "metadata": {
        "id": "L2YhjQbD5Igo",
        "colab_type": "code",
        "outputId": "4bfeafef-5054-4153-e622-dbf934af904b",
        "colab": {
          "base_uri": "https://localhost:8080/",
          "height": 72
        }
      },
      "source": [
        "kmeans.fit(a[:,:2],sample_weight=a[:,2])"
      ],
      "execution_count": 0,
      "outputs": [
        {
          "output_type": "execute_result",
          "data": {
            "text/plain": [
              "KMeans(algorithm='auto', copy_x=True, init='k-means++', max_iter=300,\n",
              "       n_clusters=10, n_init=10, n_jobs=None, precompute_distances='auto',\n",
              "       random_state=1, tol=0.0001, verbose=0)"
            ]
          },
          "metadata": {
            "tags": []
          },
          "execution_count": 300
        }
      ]
    },
    {
      "cell_type": "code",
      "metadata": {
        "id": "cmaHqaPa5TM9",
        "colab_type": "code",
        "colab": {}
      },
      "source": [
        "center = kmeans.cluster_centers_"
      ],
      "execution_count": 0,
      "outputs": []
    },
    {
      "cell_type": "code",
      "metadata": {
        "id": "OqnVSzlT5iE8",
        "colab_type": "code",
        "outputId": "a91cbf44-df33-4560-8a8d-513d80468eaf",
        "colab": {
          "base_uri": "https://localhost:8080/",
          "height": 341
        }
      },
      "source": [
        "# data = data\n",
        "data = a\n",
        "plt.scatter((data[:,1]),np.flip(data[:,0]),c =(0,0,0),s =60,marker=\"s\")\n",
        "plt.scatter(center[:,0],center[:,1],c =(1,0,0),s =60,marker=\"s\")"
      ],
      "execution_count": 0,
      "outputs": [
        {
          "output_type": "stream",
          "text": [
            "'c' argument looks like a single numeric RGB or RGBA sequence, which should be avoided as value-mapping will have precedence in case its length matches with 'x' & 'y'.  Please use a 2-D array with a single row if you really want to specify the same RGB or RGBA value for all points.\n",
            "'c' argument looks like a single numeric RGB or RGBA sequence, which should be avoided as value-mapping will have precedence in case its length matches with 'x' & 'y'.  Please use a 2-D array with a single row if you really want to specify the same RGB or RGBA value for all points.\n"
          ],
          "name": "stderr"
        },
        {
          "output_type": "execute_result",
          "data": {
            "text/plain": [
              "<matplotlib.collections.PathCollection at 0x7fd59bdb3e48>"
            ]
          },
          "metadata": {
            "tags": []
          },
          "execution_count": 302
        },
        {
          "output_type": "display_data",
          "data": {
            "image/png": "[encoded data removed]",
            "text/plain": [
              "<Figure size 432x288 with 1 Axes>"
            ]
          },
          "metadata": {
            "tags": [],
            "needs_background": "light"
          }
        }
      ]
    },
    {
      "cell_type": "code",
      "metadata": {
        "id": "rPMGK5vXyUyR",
        "colab_type": "code",
        "colab": {}
      },
      "source": [
        "criteria = (cv2.TERM_CRITERIA_EPS + cv2.TERM_CRITERIA_MAX_ITER, 10, 1.0)\n",
        "ret,label,center=cv2.kmeans(np.float32(data[:,:2]),10,None,criteria,10,cv2.KMEANS_RANDOM_CENTERS)"
      ],
      "execution_count": 0,
      "outputs": []
    },
    {
      "cell_type": "code",
      "metadata": {
        "id": "sY3CReyzyhno",
        "colab_type": "code",
        "colab": {}
      },
      "source": [
        "center"
      ],
      "execution_count": 0,
      "outputs": []
    },
    {
      "cell_type": "code",
      "metadata": {
        "id": "BJk0nXtt1DWQ",
        "colab_type": "code",
        "outputId": "13374bbd-7f11-47e9-f142-425a58ac6cee",
        "colab": {
          "base_uri": "https://localhost:8080/",
          "height": 323
        }
      },
      "source": [
        "# data = data\n",
        "x = data[:,2]\n",
        "plt.scatter((data[:,1]),np.flip(data[:,0]),c = data[:,2],cmap='gray',s =60,marker=\"s\")\n",
        "plt.scatter(center[:,0],center[:,1],c =(0.2,0.3,0.9),s =60,marker=\"s\")"
      ],
      "execution_count": 0,
      "outputs": [
        {
          "output_type": "stream",
          "text": [
            "'c' argument looks like a single numeric RGB or RGBA sequence, which should be avoided as value-mapping will have precedence in case its length matches with 'x' & 'y'.  Please use a 2-D array with a single row if you really want to specify the same RGB or RGBA value for all points.\n"
          ],
          "name": "stderr"
        },
        {
          "output_type": "execute_result",
          "data": {
            "text/plain": [
              "<matplotlib.collections.PathCollection at 0x7fd59bd97908>"
            ]
          },
          "metadata": {
            "tags": []
          },
          "execution_count": 303
        },
        {
          "output_type": "display_data",
          "data": {
            "image/png": "[encoded data removed]",
            "text/plain": [
              "<Figure size 432x288 with 1 Axes>"
            ]
          },
          "metadata": {
            "tags": [],
            "needs_background": "light"
          }
        }
      ]
    },
    {
      "cell_type": "code",
      "metadata": {
        "id": "d0lh-Y3m6SFF",
        "colab_type": "code",
        "colab": {}
      },
      "source": [
        "def getCenter(data):\n",
        "  kmeans = KMeans(n_clusters=10, random_state=1)\n",
        "  kmeans.fit(a[:,:2],sample_weight=a[:,2])\n",
        "  center = kmeans.cluster_centers_\n",
        "  return center"
      ],
      "execution_count": 0,
      "outputs": []
    },
    {
      "cell_type": "code",
      "metadata": {
        "id": "qZeyG56D6nLf",
        "colab_type": "code",
        "colab": {}
      },
      "source": [
        "def distance(a,b):\n",
        "  return (  ((a[0]-b[0])**2)+ ((a[1]-b[1])**2) )**(1/2)"
      ],
      "execution_count": 0,
      "outputs": []
    },
    {
      "cell_type": "code",
      "metadata": {
        "id": "jDWvWVB58bEu",
        "colab_type": "code",
        "colab": {}
      },
      "source": [
        "def distancei(a,b,i):\n",
        "  return abs(a[i]-b[i])\n",
        "  # return (  ((a[0]-b[0])**2)+ ((a[1]-b[1])**2) )**(1/2)"
      ],
      "execution_count": 0,
      "outputs": []
    },
    {
      "cell_type": "code",
      "metadata": {
        "id": "dVJgxma06_jl",
        "colab_type": "code",
        "colab": {}
      },
      "source": [
        "def getGRAD(input,data):\n",
        "  center  = getCenter(data)\n",
        "  l = input[:(index*2)].reshape(-1,2)\n",
        "  ret = np.copy(input)\n",
        "  for x in range(len(l)):\n",
        "    mina = 999999\n",
        "    for y in range(len(center)):\n",
        "      d = distancei(l[x],center[y])\n",
        "      if(d<mina):\n",
        "        mina = d\n",
        "    ret[x*2]=mina\n",
        "    ret[(x*2)+1]=mina\n",
        "    ret[(index*2)+x]=mina\n",
        "  return ret"
      ],
      "execution_count": 0,
      "outputs": []
    },
    {
      "cell_type": "code",
      "metadata": {
        "id": "nzRx_7BT-GLj",
        "colab_type": "code",
        "colab": {}
      },
      "source": [
        "from sklearn.cluster import KMeans\n",
        "def getCenter(data):\n",
        "  kmeans = KMeans(n_clusters=10, random_state=1)\n",
        "  kmeans.fit(a[:,:2],sample_weight=a[:,2])\n",
        "  center = kmeans.cluster_centers_\n",
        "  return center\n",
        "def distancei(a,b,i):\n",
        "  return abs(a[i]-b[i])\n",
        "  # return (  ((a[0]-b[0])**2)+ ((a[1]-b[1])**2) )**(1/2)\n",
        "def getGRAD(input,data):\n",
        "  center  = getCenter(data)\n",
        "  l = input[:(index*2)].reshape(-1,2)\n",
        "  ret = np.copy(input)\n",
        "  for x in range(len(l)):\n",
        "    mina = 999999\n",
        "    for y in range(len(center)):\n",
        "      d = distancei(l[x],center[y])\n",
        "      if(d<mina):\n",
        "        mina = d\n",
        "    ret[x*2]=mina\n",
        "    ret[(x*2)+1]=mina\n",
        "    ret[(index*2)+x]=mina\n",
        "  return ret"
      ],
      "execution_count": 0,
      "outputs": []
    },
    {
      "cell_type": "code",
      "metadata": {
        "id": "jYud1_JU7a74",
        "colab_type": "code",
        "outputId": "5bd19618-338b-4686-982b-67bf91d59f4b",
        "colab": {
          "base_uri": "https://localhost:8080/",
          "height": 72
        }
      },
      "source": [
        "a = np.array([1,2,3,4,5,6])\n",
        "a.reshape(-1,2)"
      ],
      "execution_count": 0,
      "outputs": [
        {
          "output_type": "execute_result",
          "data": {
            "text/plain": [
              "array([[1, 2],\n",
              "       [3, 4],\n",
              "       [5, 6]])"
            ]
          },
          "metadata": {
            "tags": []
          },
          "execution_count": 309
        }
      ]
    },
    {
      "cell_type": "code",
      "metadata": {
        "id": "ESMKm4b0ymA2",
        "colab_type": "code",
        "colab": {}
      },
      "source": [
        "a = a[a[:,2]<(threshold/2)]"
      ],
      "execution_count": 0,
      "outputs": []
    },
    {
      "cell_type": "code",
      "metadata": {
        "id": "I7TcxxsDyyEB",
        "colab_type": "code",
        "colab": {}
      },
      "source": [
        "criteria = (cv2.TERM_CRITERIA_EPS + cv2.TERM_CRITERIA_MAX_ITER, 10, 1.0)\n",
        "ret,label,center=cv2.kmeans(np.float32(a[:,:2]),10,None,criteria,10,cv2.KMEANS_RANDOM_CENTERS)"
      ],
      "execution_count": 0,
      "outputs": []
    },
    {
      "cell_type": "code",
      "metadata": {
        "id": "XeHUC4FDyywc",
        "colab_type": "code",
        "outputId": "53c672a0-ff98-45ad-fd05-f939b7c9745c",
        "colab": {
          "base_uri": "https://localhost:8080/",
          "height": 201
        }
      },
      "source": [
        "center"
      ],
      "execution_count": 0,
      "outputs": [
        {
          "output_type": "execute_result",
          "data": {
            "text/plain": [
              "array([[ 1.75     ,  3.6666667],\n",
              "       [ 5.555556 , 23.555555 ],\n",
              "       [13.44     , 24.72     ],\n",
              "       [16.214287 ,  3.357143 ],\n",
              "       [15.296296 , 13.111112 ],\n",
              "       [ 4.1      , 12.2      ],\n",
              "       [ 8.36     ,  5.8399997],\n",
              "       [25.956522 ,  6.173913 ],\n",
              "       [24.615385 , 16.538462 ],\n",
              "       [24.296297 , 24.777779 ]], dtype=float32)"
            ]
          },
          "metadata": {
            "tags": []
          },
          "execution_count": 216
        }
      ]
    },
    {
      "cell_type": "code",
      "metadata": {
        "id": "s-t3dOHewRr4",
        "colab_type": "code",
        "colab": {}
      },
      "source": [
        "X = np.random.randint(25,50,(25,2))\n",
        "Y = np.random.randint(60,85,(25,2))\n",
        "Z = np.vstack((X,Y))"
      ],
      "execution_count": 0,
      "outputs": []
    },
    {
      "cell_type": "code",
      "metadata": {
        "id": "3mLSSgdewSUT",
        "colab_type": "code",
        "outputId": "f828962f-0fa8-4d72-cf69-be70f1c318d2",
        "colab": {
          "base_uri": "https://localhost:8080/",
          "height": 54
        }
      },
      "source": [
        "print(Z.shape)\n",
        "a.shape"
      ],
      "execution_count": 0,
      "outputs": [
        {
          "output_type": "stream",
          "text": [
            "(50, 2)\n"
          ],
          "name": "stdout"
        },
        {
          "output_type": "execute_result",
          "data": {
            "text/plain": [
              "(900, 3)"
            ]
          },
          "metadata": {
            "tags": []
          },
          "execution_count": 177
        }
      ]
    },
    {
      "cell_type": "code",
      "metadata": {
        "id": "ySAP4G8Jwdf0",
        "colab_type": "code",
        "outputId": "301bc9c2-7bdd-4400-95af-cfd0491f766c",
        "colab": {
          "base_uri": "https://localhost:8080/",
          "height": 35
        }
      },
      "source": [
        "a[:,:2].shape"
      ],
      "execution_count": 0,
      "outputs": [
        {
          "output_type": "execute_result",
          "data": {
            "text/plain": [
              "(900, 2)"
            ]
          },
          "metadata": {
            "tags": []
          },
          "execution_count": 183
        }
      ]
    },
    {
      "cell_type": "code",
      "metadata": {
        "id": "_ZH2SCclQlQP",
        "colab_type": "code",
        "outputId": "4aa274c6-6833-413a-96dd-6ff988eda054",
        "colab": {
          "base_uri": "https://localhost:8080/",
          "height": 47
        }
      },
      "source": [
        "s = np.random.rand(30,30)\n",
        "cv2_imshow(s*255)"
      ],
      "execution_count": 0,
      "outputs": [
        {
          "output_type": "display_data",
          "data": {
            "image/png": "[encoded data removed]",
            "text/plain": [
              "<PIL.Image.Image image mode=L size=30x30 at 0x7FD5A1BE8588>"
            ]
          },
          "metadata": {
            "tags": []
          }
        }
      ]
    },
    {
      "cell_type": "code",
      "metadata": {
        "id": "D-mxDMQoTGFp",
        "colab_type": "code",
        "colab": {}
      },
      "source": [
        ""
      ],
      "execution_count": 0,
      "outputs": []
    },
    {
      "cell_type": "code",
      "metadata": {
        "id": "fCeZ7pWjTGBY",
        "colab_type": "code",
        "colab": {}
      },
      "source": [
        "from matplotlib import pyplot as plt\n",
        "%matplotlib inline"
      ],
      "execution_count": 0,
      "outputs": []
    },
    {
      "cell_type": "code",
      "metadata": {
        "id": "k9inuirSUyEf",
        "colab_type": "code",
        "outputId": "4edda612-4f71-4c73-eebb-657a4d044154",
        "colab": {
          "base_uri": "https://localhost:8080/",
          "height": 284
        }
      },
      "source": [
        "plt.imshow(s,cmap=\"gray\")"
      ],
      "execution_count": 0,
      "outputs": [
        {
          "output_type": "execute_result",
          "data": {
            "text/plain": [
              "<matplotlib.image.AxesImage at 0x7fd5a152fb00>"
            ]
          },
          "metadata": {
            "tags": []
          },
          "execution_count": 164
        },
        {
          "output_type": "display_data",
          "data": {
            "image/png": "[encoded data removed]",
            "text/plain": [
              "<Figure size 432x288 with 1 Axes>"
            ]
          },
          "metadata": {
            "tags": [],
            "needs_background": "light"
          }
        }
      ]
    },
    {
      "cell_type": "code",
      "metadata": {
        "id": "pvPP3_lgUenZ",
        "colab_type": "code",
        "colab": {}
      },
      "source": [
        "def showData2D(data):\n",
        "  plt.scatter((data[:,1]),np.flip(data[:,0]),c = data[:,2],s =90,cmap = \"gray\",marker=\"s\")"
      ],
      "execution_count": 0,
      "outputs": []
    },
    {
      "cell_type": "code",
      "metadata": {
        "id": "2s5xsYHqgVlT",
        "colab_type": "code",
        "outputId": "2f67db03-f8d5-4a9d-8991-8f501dfefbbb",
        "colab": {
          "base_uri": "https://localhost:8080/",
          "height": 265
        }
      },
      "source": [
        "showData2D(a)"
      ],
      "execution_count": 0,
      "outputs": [
        {
          "output_type": "display_data",
          "data": {
            "image/png": "[encoded data removed]",
            "text/plain": [
              "<Figure size 432x288 with 1 Axes>"
            ]
          },
          "metadata": {
            "tags": [],
            "needs_background": "light"
          }
        }
      ]
    },
    {
      "cell_type": "code",
      "metadata": {
        "id": "CN-ehedcQOhV",
        "colab_type": "code",
        "outputId": "a3bec040-c004-494e-e23a-11385d09542f",
        "colab": {
          "base_uri": "https://localhost:8080/",
          "height": 34
        }
      },
      "source": [
        "indicesArray.shape"
      ],
      "execution_count": 0,
      "outputs": [
        {
          "output_type": "execute_result",
          "data": {
            "text/plain": [
              "(1024, 768, 2)"
            ]
          },
          "metadata": {
            "tags": []
          },
          "execution_count": 97
        }
      ]
    },
    {
      "cell_type": "code",
      "metadata": {
        "id": "jsyT4DYBJW_S",
        "colab_type": "code",
        "outputId": "bee98d4f-efc8-4267-c14f-89adabdeb9db",
        "colab": {
          "base_uri": "https://localhost:8080/",
          "height": 850
        }
      },
      "source": [
        "np.expand_dims(colourArray,0)"
      ],
      "execution_count": 0,
      "outputs": [
        {
          "output_type": "execute_result",
          "data": {
            "text/plain": [
              "array([[[[85],\n",
              "         [84],\n",
              "         [84],\n",
              "         ...,\n",
              "         [92],\n",
              "         [92],\n",
              "         [92]],\n",
              "\n",
              "        [[92],\n",
              "         [92],\n",
              "         [92],\n",
              "         ...,\n",
              "         [94],\n",
              "         [95],\n",
              "         [95]],\n",
              "\n",
              "        [[95],\n",
              "         [95],\n",
              "         [95],\n",
              "         ...,\n",
              "         [93],\n",
              "         [93],\n",
              "         [93]],\n",
              "\n",
              "        ...,\n",
              "\n",
              "        [[95],\n",
              "         [95],\n",
              "         [95],\n",
              "         ...,\n",
              "         [88],\n",
              "         [89],\n",
              "         [89]],\n",
              "\n",
              "        [[89],\n",
              "         [87],\n",
              "         [87],\n",
              "         ...,\n",
              "         [92],\n",
              "         [91],\n",
              "         [90]],\n",
              "\n",
              "        [[92],\n",
              "         [91],\n",
              "         [90],\n",
              "         ...,\n",
              "         [83],\n",
              "         [83],\n",
              "         [83]]]])"
            ]
          },
          "metadata": {
            "tags": []
          },
          "execution_count": 88
        }
      ]
    },
    {
      "cell_type": "code",
      "metadata": {
        "id": "UNebaNKIC16b",
        "colab_type": "code",
        "colab": {}
      },
      "source": [
        "def ImageToData2D(img):\n",
        "    colourArray = np.array(img).reshape((img.shape[1],img.shape[0]) + (1,))\n",
        "    indicesArray = np.moveaxis(np.indices((img.shape[1],img.shape[0])), 0, 1)\n",
        "    print(indicesArray)\n",
        "    print(colourArray)\n",
        "    allArray = np.dstack((indicesArray, colourArray)).reshape((-1, 3))\n",
        "    \n",
        "    return allArray\n",
        "df = pd.DataFrame(allArray, columns=[\"y\", \"x\", \"weight\"])"
      ],
      "execution_count": 0,
      "outputs": []
    },
    {
      "cell_type": "code",
      "metadata": {
        "id": "RzlCh_qXIHbt",
        "colab_type": "code",
        "colab": {}
      },
      "source": [
        "colourArray"
      ],
      "execution_count": 0,
      "outputs": []
    },
    {
      "cell_type": "code",
      "metadata": {
        "id": "Rqvk1f4gFDUz",
        "colab_type": "code",
        "outputId": "8909f445-c878-4ad5-92c1-6ef53bea3b39",
        "colab": {
          "base_uri": "https://localhost:8080/",
          "height": 1000
        }
      },
      "source": [
        "# img = cv2.cvtColor(img, cv2.COLOR_BGR2GRAY)\n",
        "ImageToData2D(img)"
      ],
      "execution_count": 0,
      "outputs": [
        {
          "output_type": "stream",
          "text": [
            "[[[   0    0    0 ...    0    0    0]\n",
            "  [   0    1    2 ...  765  766  767]]\n",
            "\n",
            " [[   1    1    1 ...    1    1    1]\n",
            "  [   0    1    2 ...  765  766  767]]\n",
            "\n",
            " [[   2    2    2 ...    2    2    2]\n",
            "  [   0    1    2 ...  765  766  767]]\n",
            "\n",
            " ...\n",
            "\n",
            " [[1021 1021 1021 ... 1021 1021 1021]\n",
            "  [   0    1    2 ...  765  766  767]]\n",
            "\n",
            " [[1022 1022 1022 ... 1022 1022 1022]\n",
            "  [   0    1    2 ...  765  766  767]]\n",
            "\n",
            " [[1023 1023 1023 ... 1023 1023 1023]\n",
            "  [   0    1    2 ...  765  766  767]]]\n",
            "[[[85]\n",
            "  [84]\n",
            "  [84]\n",
            "  ...\n",
            "  [92]\n",
            "  [92]\n",
            "  [92]]\n",
            "\n",
            " [[92]\n",
            "  [92]\n",
            "  [92]\n",
            "  ...\n",
            "  [94]\n",
            "  [95]\n",
            "  [95]]\n",
            "\n",
            " [[95]\n",
            "  [95]\n",
            "  [95]\n",
            "  ...\n",
            "  [93]\n",
            "  [93]\n",
            "  [93]]\n",
            "\n",
            " ...\n",
            "\n",
            " [[95]\n",
            "  [95]\n",
            "  [95]\n",
            "  ...\n",
            "  [88]\n",
            "  [89]\n",
            "  [89]]\n",
            "\n",
            " [[89]\n",
            "  [87]\n",
            "  [87]\n",
            "  ...\n",
            "  [92]\n",
            "  [91]\n",
            "  [90]]\n",
            "\n",
            " [[92]\n",
            "  [91]\n",
            "  [90]\n",
            "  ...\n",
            "  [83]\n",
            "  [83]\n",
            "  [83]]]\n"
          ],
          "name": "stdout"
        },
        {
          "output_type": "error",
          "ename": "ValueError",
          "evalue": "ignored",
          "traceback": [
            "\u001b[0;31m---------------------------------------------------------------------------\u001b[0m",
            "\u001b[0;31mValueError\u001b[0m                                Traceback (most recent call last)",
            "\u001b[0;32m<ipython-input-57-e18e6a3c1642>\u001b[0m in \u001b[0;36m<module>\u001b[0;34m()\u001b[0m\n\u001b[1;32m      1\u001b[0m \u001b[0;31m# img = cv2.cvtColor(img, cv2.COLOR_BGR2GRAY)\u001b[0m\u001b[0;34m\u001b[0m\u001b[0;34m\u001b[0m\u001b[0;34m\u001b[0m\u001b[0m\n\u001b[0;32m----> 2\u001b[0;31m \u001b[0mImageToData2D\u001b[0m\u001b[0;34m(\u001b[0m\u001b[0mimg\u001b[0m\u001b[0;34m)\u001b[0m\u001b[0;34m\u001b[0m\u001b[0;34m\u001b[0m\u001b[0m\n\u001b[0m",
            "\u001b[0;32m<ipython-input-56-9e198447bb21>\u001b[0m in \u001b[0;36mImageToData2D\u001b[0;34m(img)\u001b[0m\n\u001b[1;32m      4\u001b[0m     \u001b[0mprint\u001b[0m\u001b[0;34m(\u001b[0m\u001b[0mindicesArray\u001b[0m\u001b[0;34m)\u001b[0m\u001b[0;34m\u001b[0m\u001b[0;34m\u001b[0m\u001b[0m\n\u001b[1;32m      5\u001b[0m     \u001b[0mprint\u001b[0m\u001b[0;34m(\u001b[0m\u001b[0mcolourArray\u001b[0m\u001b[0;34m)\u001b[0m\u001b[0;34m\u001b[0m\u001b[0;34m\u001b[0m\u001b[0m\n\u001b[0;32m----> 6\u001b[0;31m     \u001b[0mallArray\u001b[0m \u001b[0;34m=\u001b[0m \u001b[0mnp\u001b[0m\u001b[0;34m.\u001b[0m\u001b[0mdstack\u001b[0m\u001b[0;34m(\u001b[0m\u001b[0;34m(\u001b[0m\u001b[0mindicesArray\u001b[0m\u001b[0;34m,\u001b[0m \u001b[0mcolourArray\u001b[0m\u001b[0;34m)\u001b[0m\u001b[0;34m)\u001b[0m\u001b[0;34m.\u001b[0m\u001b[0mreshape\u001b[0m\u001b[0;34m(\u001b[0m\u001b[0;34m(\u001b[0m\u001b[0;34m-\u001b[0m\u001b[0;36m1\u001b[0m\u001b[0;34m,\u001b[0m \u001b[0;36m3\u001b[0m\u001b[0;34m)\u001b[0m\u001b[0;34m)\u001b[0m\u001b[0;34m\u001b[0m\u001b[0;34m\u001b[0m\u001b[0m\n\u001b[0m\u001b[1;32m      7\u001b[0m \u001b[0;34m\u001b[0m\u001b[0m\n\u001b[1;32m      8\u001b[0m     \u001b[0;32mreturn\u001b[0m \u001b[0mallArray\u001b[0m\u001b[0;34m\u001b[0m\u001b[0;34m\u001b[0m\u001b[0m\n",
            "\u001b[0;32m<__array_function__ internals>\u001b[0m in \u001b[0;36mdstack\u001b[0;34m(*args, **kwargs)\u001b[0m\n",
            "\u001b[0;32m/usr/local/lib/python3.6/dist-packages/numpy/lib/shape_base.py\u001b[0m in \u001b[0;36mdstack\u001b[0;34m(tup)\u001b[0m\n\u001b[1;32m    719\u001b[0m     \u001b[0;32mif\u001b[0m \u001b[0;32mnot\u001b[0m \u001b[0misinstance\u001b[0m\u001b[0;34m(\u001b[0m\u001b[0marrs\u001b[0m\u001b[0;34m,\u001b[0m \u001b[0mlist\u001b[0m\u001b[0;34m)\u001b[0m\u001b[0;34m:\u001b[0m\u001b[0;34m\u001b[0m\u001b[0;34m\u001b[0m\u001b[0m\n\u001b[1;32m    720\u001b[0m         \u001b[0marrs\u001b[0m \u001b[0;34m=\u001b[0m \u001b[0;34m[\u001b[0m\u001b[0marrs\u001b[0m\u001b[0;34m]\u001b[0m\u001b[0;34m\u001b[0m\u001b[0;34m\u001b[0m\u001b[0m\n\u001b[0;32m--> 721\u001b[0;31m     \u001b[0;32mreturn\u001b[0m \u001b[0m_nx\u001b[0m\u001b[0;34m.\u001b[0m\u001b[0mconcatenate\u001b[0m\u001b[0;34m(\u001b[0m\u001b[0marrs\u001b[0m\u001b[0;34m,\u001b[0m \u001b[0;36m2\u001b[0m\u001b[0;34m)\u001b[0m\u001b[0;34m\u001b[0m\u001b[0;34m\u001b[0m\u001b[0m\n\u001b[0m\u001b[1;32m    722\u001b[0m \u001b[0;34m\u001b[0m\u001b[0m\n\u001b[1;32m    723\u001b[0m \u001b[0;34m\u001b[0m\u001b[0m\n",
            "\u001b[0;32m<__array_function__ internals>\u001b[0m in \u001b[0;36mconcatenate\u001b[0;34m(*args, **kwargs)\u001b[0m\n",
            "\u001b[0;31mValueError\u001b[0m: all the input array dimensions for the concatenation axis must match exactly, but along dimension 1, the array at index 0 has size 2 and the array at index 1 has size 768"
          ]
        }
      ]
    },
    {
      "cell_type": "code",
      "metadata": {
        "id": "85llAVnoDDM_",
        "colab_type": "code",
        "outputId": "5109364a-60bb-49c2-9d3f-2895f84568e9",
        "colab": {
          "base_uri": "https://localhost:8080/",
          "height": 34
        }
      },
      "source": [
        "colourArray.shape"
      ],
      "execution_count": 0,
      "outputs": [
        {
          "output_type": "execute_result",
          "data": {
            "text/plain": [
              "(1024, 768, 3)"
            ]
          },
          "metadata": {
            "tags": []
          },
          "execution_count": 17
        }
      ]
    },
    {
      "cell_type": "code",
      "metadata": {
        "id": "btTZ-S97DORc",
        "colab_type": "code",
        "outputId": "565efc93-96f8-4e01-ac78-60d53802dd01",
        "colab": {
          "base_uri": "https://localhost:8080/",
          "height": 850
        }
      },
      "source": [
        "indicesArray"
      ],
      "execution_count": 0,
      "outputs": [
        {
          "output_type": "execute_result",
          "data": {
            "text/plain": [
              "array([[[   0,    0],\n",
              "        [   0,    1],\n",
              "        [   0,    2],\n",
              "        ...,\n",
              "        [   0,  765],\n",
              "        [   0,  766],\n",
              "        [   0,  767]],\n",
              "\n",
              "       [[   1,    0],\n",
              "        [   1,    1],\n",
              "        [   1,    2],\n",
              "        ...,\n",
              "        [   1,  765],\n",
              "        [   1,  766],\n",
              "        [   1,  767]],\n",
              "\n",
              "       [[   2,    0],\n",
              "        [   2,    1],\n",
              "        [   2,    2],\n",
              "        ...,\n",
              "        [   2,  765],\n",
              "        [   2,  766],\n",
              "        [   2,  767]],\n",
              "\n",
              "       ...,\n",
              "\n",
              "       [[1021,    0],\n",
              "        [1021,    1],\n",
              "        [1021,    2],\n",
              "        ...,\n",
              "        [1021,  765],\n",
              "        [1021,  766],\n",
              "        [1021,  767]],\n",
              "\n",
              "       [[1022,    0],\n",
              "        [1022,    1],\n",
              "        [1022,    2],\n",
              "        ...,\n",
              "        [1022,  765],\n",
              "        [1022,  766],\n",
              "        [1022,  767]],\n",
              "\n",
              "       [[1023,    0],\n",
              "        [1023,    1],\n",
              "        [1023,    2],\n",
              "        ...,\n",
              "        [1023,  765],\n",
              "        [1023,  766],\n",
              "        [1023,  767]]])"
            ]
          },
          "metadata": {
            "tags": []
          },
          "execution_count": 22
        }
      ]
    },
    {
      "cell_type": "code",
      "metadata": {
        "id": "5UcC893cDxQD",
        "colab_type": "code",
        "outputId": "2415745e-f0b0-4d36-f5a7-aca634b7a6c4",
        "colab": {
          "base_uri": "https://localhost:8080/",
          "height": 136
        }
      },
      "source": [
        "allArray  "
      ],
      "execution_count": 0,
      "outputs": [
        {
          "output_type": "execute_result",
          "data": {
            "text/plain": [
              "array([[   0,    0,   60,  106,   41],\n",
              "       [   0,    1,   59,  105,   40],\n",
              "       [   0,    2,   59,  105,   40],\n",
              "       ...,\n",
              "       [1023,  765,   58,  104,   42],\n",
              "       [1023,  766,   58,  104,   42],\n",
              "       [1023,  767,   58,  104,   42]])"
            ]
          },
          "metadata": {
            "tags": []
          },
          "execution_count": 20
        }
      ]
    },
    {
      "cell_type": "code",
      "metadata": {
        "id": "EI-E7IxAC54h",
        "colab_type": "code",
        "outputId": "90650e54-404a-44d3-d088-4e85829143e3",
        "colab": {
          "base_uri": "https://localhost:8080/",
          "height": 204
        }
      },
      "source": [
        "df.head()"
      ],
      "execution_count": 0,
      "outputs": [
        {
          "output_type": "execute_result",
          "data": {
            "text/html": [
              "<div>\n",
              "<style scoped>\n",
              "    .dataframe tbody tr th:only-of-type {\n",
              "        vertical-align: middle;\n",
              "    }\n",
              "\n",
              "    .dataframe tbody tr th {\n",
              "        vertical-align: top;\n",
              "    }\n",
              "\n",
              "    .dataframe thead th {\n",
              "        text-align: right;\n",
              "    }\n",
              "</style>\n",
              "<table border=\"1\" class=\"dataframe\">\n",
              "  <thead>\n",
              "    <tr style=\"text-align: right;\">\n",
              "      <th></th>\n",
              "      <th>y</th>\n",
              "      <th>x</th>\n",
              "      <th>red</th>\n",
              "      <th>green</th>\n",
              "      <th>blue</th>\n",
              "    </tr>\n",
              "  </thead>\n",
              "  <tbody>\n",
              "    <tr>\n",
              "      <th>0</th>\n",
              "      <td>0</td>\n",
              "      <td>0</td>\n",
              "      <td>60</td>\n",
              "      <td>106</td>\n",
              "      <td>41</td>\n",
              "    </tr>\n",
              "    <tr>\n",
              "      <th>1</th>\n",
              "      <td>0</td>\n",
              "      <td>1</td>\n",
              "      <td>59</td>\n",
              "      <td>105</td>\n",
              "      <td>40</td>\n",
              "    </tr>\n",
              "    <tr>\n",
              "      <th>2</th>\n",
              "      <td>0</td>\n",
              "      <td>2</td>\n",
              "      <td>59</td>\n",
              "      <td>105</td>\n",
              "      <td>40</td>\n",
              "    </tr>\n",
              "    <tr>\n",
              "      <th>3</th>\n",
              "      <td>0</td>\n",
              "      <td>3</td>\n",
              "      <td>58</td>\n",
              "      <td>104</td>\n",
              "      <td>39</td>\n",
              "    </tr>\n",
              "    <tr>\n",
              "      <th>4</th>\n",
              "      <td>0</td>\n",
              "      <td>4</td>\n",
              "      <td>58</td>\n",
              "      <td>104</td>\n",
              "      <td>39</td>\n",
              "    </tr>\n",
              "  </tbody>\n",
              "</table>\n",
              "</div>"
            ],
            "text/plain": [
              "   y  x  red  green  blue\n",
              "0  0  0   60    106    41\n",
              "1  0  1   59    105    40\n",
              "2  0  2   59    105    40\n",
              "3  0  3   58    104    39\n",
              "4  0  4   58    104    39"
            ]
          },
          "metadata": {
            "tags": []
          },
          "execution_count": 14
        }
      ]
    }
  ]
}